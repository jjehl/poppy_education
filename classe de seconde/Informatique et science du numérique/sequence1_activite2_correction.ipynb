{
 "cells": [
  {
   "cell_type": "markdown",
   "metadata": {},
   "source": [
    "#Séquences 1 - Découverte de la programmation objet et du language Python\n",
    " \n",
    "##Activité 2 - Instancier la classe Poppy et utiliser les objets Pypot"
   ]
  },
  {
   "cell_type": "markdown",
   "metadata": {},
   "source": [
    "---\n",
    "#####Compétences visées par cette activité :\n",
    "*Savoir utiliser des **modules** en y récupérant des **classes**. Instancier un **objet** à partir d'une **classe**. Utiliser une **méthode** et un **attribut** liée à un **objet**.*\n",
    "Faire le lien entre **rotation des moteurs** et **position du robot dans l'espace**.\n",
    "\n",
    "------\n",
    "#####Programme de mathématique - seconde :\n",
    "*L’utilisation de logiciels (calculatrice ou ordinateur), d’outils de visualisation et de représentation, de calcul (numérique ou formel), de simulation, de programmation développe la possibilité d’expérimenter, ouvre largement la dialectique entre l’observation et la démonstration et change profondément la nature de l’enseignement.  \n",
    "http://cache.media.education.gouv.fr/file/30/52/3/programme_mathematiques_seconde_65523.pdf (page 2)*\n",
    "\n",
    "*À l’occasion de l’écriture d’algorithmes et de petits programmes, il convient de donner aux élèves de bonnes habitudes de\n",
    "rigueur et de les entraîner aux pratiques systématiques de vérification et de contrôle.  \n",
    "http://cache.media.education.gouv.fr/file/30/52/3/programme_mathematiques_seconde_65523.pdf (page 9)*\n",
    "\n",
    "#####Programme de mathématique - première : \n",
    "*Algorithmique : en seconde, les élèves ont conçu et mis en œuvre quelques algorithmes. Cette formation se poursuit tout au\n",
    "long du cycle terminal.  \n",
    "http://cache.media.education.gouv.fr/file/special_9/21/1/mathsS_155211.pdf (page 6)*\n",
    "\n",
    "Programme ISN - terminale : découverte du monde numérique\n",
    "Programme SI - etc...\n",
    "\n",
    "---"
   ]
  },
  {
   "cell_type": "markdown",
   "metadata": {},
   "source": [
    "Pour faire fonctionner notre robot, il faut utiliser Python mais pas seulement. Nous allons aussi avoir besoin de ce que l'on appelle une librairie. La librairie qui permet d'utiliser notre robot s'appelle Pypot et elle est entièrement écrite avec le language Python.\n",
    "\n",
    "Cette librairie a été construite par des chercheurs très compétants et nous allons simplement apprendre à l'utiliser. "
   ]
  },
  {
   "cell_type": "markdown",
   "metadata": {},
   "source": [
    "La première chose à faire est d'aller chercher dans la librairie Pypot, les bons \"livres\", ceux dont nous allons avoir besoin. Ces \"livres\" se nomment des modules en vocabulaire Python."
   ]
  },
  {
   "cell_type": "code",
   "execution_count": 3,
   "metadata": {
    "collapsed": true
   },
   "outputs": [],
   "source": [
    "from poppy.creatures import PoppyTorso"
   ]
  },
  {
   "cell_type": "markdown",
   "metadata": {},
   "source": [
    "Ensuite, de la même façon que vous avez pu créer un objet s'appelant objet1 et étant un bol dans l'activité précedente ([activité 1](http://nbviewer.com)), vous allez maintenant créer un objet s'appellant Poppy et étant un robot de type PoppyTorso."
   ]
  },
  {
   "cell_type": "code",
   "execution_count": 4,
   "metadata": {
    "collapsed": true
   },
   "outputs": [],
   "source": [
    "Poppy = PoppyTorso(simulator='vrep')"
   ]
  },
  {
   "cell_type": "markdown",
   "metadata": {},
   "source": [
    "Comme toute chose en language Python, notre robot poppy est un objet qui contient d'autres objets qui sont ses moteurs.\n",
    "\n",
    "Ca y est, si vous arrivez à accéder aux moteurs de Poppy, vous pourrez le faire bouger...\n",
    "\n",
    "Vous devez donc accéder aux moteurs de poppy (qui se nomment \"motors\") et qui se trouve à l'intérieur de Poppy de la même façon que dans l'activité 1, il fallait accéder à la méthode \"append\" se trouvant à l'intérieur de notre liste placard.\n",
    "\n",
    "Proposez une solution pour accéder aux moteurs de Poppy :"
   ]
  },
  {
   "cell_type": "code",
   "execution_count": 25,
   "metadata": {
    "collapsed": false
   },
   "outputs": [
    {
     "data": {
      "text/plain": [
       "[<DxlMotor name=r_arm_z id=53 pos=-0.0>,\n",
       " <DxlMotor name=r_elbow_y id=54 pos=0.0>,\n",
       " <DxlMotor name=l_arm_z id=43 pos=-0.2>,\n",
       " <DxlMotor name=l_elbow_y id=44 pos=0.0>,\n",
       " <DxlMotor name=abs_z id=33 pos=0.0>,\n",
       " <DxlMotor name=r_shoulder_x id=52 pos=0.0>,\n",
       " <DxlMotor name=r_shoulder_y id=51 pos=-2.8>,\n",
       " <DxlMotor name=head_y id=37 pos=-30.8>,\n",
       " <DxlMotor name=head_z id=36 pos=-0.0>,\n",
       " <DxlMotor name=bust_y id=34 pos=-0.3>,\n",
       " <DxlMotor name=bust_x id=35 pos=0.0>,\n",
       " <DxlMotor name=l_shoulder_x id=42 pos=-7.4>,\n",
       " <DxlMotor name=l_shoulder_y id=41 pos=0.1>]"
      ]
     },
     "execution_count": 25,
     "metadata": {},
     "output_type": "execute_result"
    }
   ],
   "source": [
    "#Ecrivez votre code ci-dessous et executez le en cliquant sur lecture dans la barre de menu :\n",
    "\n",
    "Poppy.motors\n",
    "\n",
    "\n",
    "\n",
    "\n"
   ]
  },
  {
   "cell_type": "markdown",
   "metadata": {
    "collapsed": true
   },
   "source": [
    "Tous les mouvements sont basés sur des rotations des moteurs situés aux articulations. Il suffit de fixer l'angle que l'on désire pour un moteur. Pour cela, nous pouvons utiliser la méthode :  \n",
    "     > goto_position(angle_en_degrées,temps)\n",
    "    \n",
    "Cette méthode doit s'appliquer aux objets moteurs de l'objet Poppy.\n",
    "\n"
   ]
  },
  {
   "cell_type": "code",
   "execution_count": 24,
   "metadata": {
    "collapsed": false
   },
   "outputs": [],
   "source": [
    "Poppy.head_y.goto_position(90,1)"
   ]
  },
  {
   "cell_type": "markdown",
   "metadata": {},
   "source": [
    "A vous de mettre les bras de Poppy à l'horizontale."
   ]
  },
  {
   "cell_type": "code",
   "execution_count": 38,
   "metadata": {
    "collapsed": true
   },
   "outputs": [],
   "source": [
    "#Ecrivez votre code ci-dessous et executez le en cliquant sur lecture dans la barre de menu \n",
    "\n",
    "Poppy.r_shoulder_x.goto_position(-100,1)\n",
    "Poppy.l_shoulder_x.goto_position(100,1)"
   ]
  },
  {
   "cell_type": "code",
   "execution_count": 34,
   "metadata": {
    "collapsed": false
   },
   "outputs": [],
   "source": [
    "for m in Poppy.motors :\n",
    "    m.goto_position(0,1)"
   ]
  },
  {
   "cell_type": "code",
   "execution_count": null,
   "metadata": {
    "collapsed": true
   },
   "outputs": [],
   "source": []
  }
 ],
 "metadata": {
  "kernelspec": {
   "display_name": "Python 2",
   "language": "python",
   "name": "python2"
  },
  "language_info": {
   "codemirror_mode": {
    "name": "ipython",
    "version": 2
   },
   "file_extension": ".py",
   "mimetype": "text/x-python",
   "name": "python",
   "nbconvert_exporter": "python",
   "pygments_lexer": "ipython2",
   "version": "2.7.9"
  }
 },
 "nbformat": 4,
 "nbformat_minor": 0
}
