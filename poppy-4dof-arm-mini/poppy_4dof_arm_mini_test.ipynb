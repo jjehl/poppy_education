{
 "cells": [
  {
   "cell_type": "markdown",
   "metadata": {},
   "source": [
    "#Some tests to check if your setup is running correctly - Using dynamixel XL320 motor"
   ]
  },
  {
   "cell_type": "raw",
   "metadata": {},
   "source": [
    "Import the module to test the motors :"
   ]
  },
  {
   "cell_type": "code",
   "execution_count": 2,
   "metadata": {
    "collapsed": true
   },
   "outputs": [],
   "source": [
    "import pypot.dynamixel\n",
    "import time"
   ]
  },
  {
   "cell_type": "markdown",
   "metadata": {},
   "source": [
    "##Low level test"
   ]
  },
  {
   "cell_type": "markdown",
   "metadata": {},
   "source": [
    "Find the available usb port. The port where USB2AX or USBDynamixel is plug."
   ]
  },
  {
   "cell_type": "code",
   "execution_count": 3,
   "metadata": {
    "collapsed": false
   },
   "outputs": [
    {
     "name": "stdout",
     "output_type": "stream",
     "text": [
      "['COM3']\n"
     ]
    }
   ],
   "source": [
    "print(pypot.dynamixel.get_available_ports())"
   ]
  },
  {
   "cell_type": "markdown",
   "metadata": {},
   "source": [
    "Open a low level connexion to the motors, don't forget to replace 'COM3' if your port is different."
   ]
  },
  {
   "cell_type": "code",
   "execution_count": 4,
   "metadata": {
    "collapsed": false
   },
   "outputs": [],
   "source": [
    "dxl_io = pypot.dynamixel.Dxl320IO('COM3', use_sync_read=False)"
   ]
  },
  {
   "cell_type": "markdown",
   "metadata": {},
   "source": [
    "Find the different motors which must have differents id. Id have been set up before with the herborist tool."
   ]
  },
  {
   "cell_type": "code",
   "execution_count": 4,
   "metadata": {
    "collapsed": false
   },
   "outputs": [
    {
     "name": "stdout",
     "output_type": "stream",
     "text": [
      "[1, 2, 3, 4]\n"
     ]
    }
   ],
   "source": [
    "print(dxl_io.scan(range(30)))"
   ]
  },
  {
   "cell_type": "markdown",
   "metadata": {},
   "source": [
    "A test to check the speed of the communication with your motor. On windows it is possible that you have to change the latency time of the driver of the usbdynamixel (see forum : https://forum.poppy-project.org/t/birth-of-poppy-ergo-jr-and-support-for-low-cost-xl-320-motors/1052/22)"
   ]
  },
  {
   "cell_type": "code",
   "execution_count": 7,
   "metadata": {
    "collapsed": false
   },
   "outputs": [
    {
     "name": "stdout",
     "output_type": "stream",
     "text": [
      "100 loops, best of 3: 11.5 ms per loop\n"
     ]
    }
   ],
   "source": [
    "%timeit dxl_io.get_present_position((1, 2, 3, 4))"
   ]
  },
  {
   "cell_type": "markdown",
   "metadata": {},
   "source": [
    "Setting the robot to 0 position : "
   ]
  },
  {
   "cell_type": "code",
   "execution_count": 8,
   "metadata": {
    "collapsed": true
   },
   "outputs": [],
   "source": [
    "dxl_io.set_goal_position({1: 0})\n",
    "dxl_io.set_goal_position({2: 0})\n",
    "dxl_io.set_goal_position({3: 0})\n",
    "dxl_io.set_goal_position({4: 0})"
   ]
  },
  {
   "cell_type": "markdown",
   "metadata": {},
   "source": [
    "If you want to close the connexion :"
   ]
  },
  {
   "cell_type": "code",
   "execution_count": 10,
   "metadata": {
    "collapsed": false
   },
   "outputs": [],
   "source": [
    "dxl_io.close()"
   ]
  },
  {
   "cell_type": "markdown",
   "metadata": {},
   "source": [
    "##Config and json file"
   ]
  },
  {
   "cell_type": "markdown",
   "metadata": {},
   "source": [
    "Now, if you want to have a robot acces and not only motors access, you have to configure your robot."
   ]
  },
  {
   "cell_type": "code",
   "execution_count": 9,
   "metadata": {
    "collapsed": false
   },
   "outputs": [],
   "source": [
    "from pypot.dynamixel import autodetect_robot\n",
    "\n",
    "my_robot = autodetect_robot()\n",
    "\n",
    "for m in my_robot.motors:\n",
    "    m.goal_position = 0.0"
   ]
  },
  {
   "cell_type": "code",
   "execution_count": 10,
   "metadata": {
    "collapsed": false
   },
   "outputs": [
    {
     "data": {
      "text/plain": [
       "[<DxlMotor name=motor_1 id=1 pos=0.44>,\n",
       " <DxlMotor name=motor_2 id=2 pos=-0.15>,\n",
       " <DxlMotor name=motor_3 id=3 pos=-0.73>,\n",
       " <DxlMotor name=motor_4 id=4 pos=0.44>]"
      ]
     },
     "execution_count": 10,
     "metadata": {},
     "output_type": "execute_result"
    }
   ],
   "source": [
    "my_robot.motors"
   ]
  },
  {
   "cell_type": "code",
   "execution_count": 11,
   "metadata": {
    "collapsed": true
   },
   "outputs": [],
   "source": [
    "my_robot.motor_1.goal_position = 0"
   ]
  },
  {
   "cell_type": "markdown",
   "metadata": {},
   "source": [
    "You can save the configuration in a file :"
   ]
  },
  {
   "cell_type": "code",
   "execution_count": 14,
   "metadata": {
    "collapsed": false
   },
   "outputs": [
    {
     "ename": "NameError",
     "evalue": "name 'my_robot' is not defined",
     "output_type": "error",
     "traceback": [
      "\u001b[1;31m---------------------------------------------------------------------------\u001b[0m",
      "\u001b[1;31mNameError\u001b[0m                                 Traceback (most recent call last)",
      "\u001b[1;32m<ipython-input-14-eaffbe76aea0>\u001b[0m in \u001b[0;36m<module>\u001b[1;34m()\u001b[0m\n\u001b[0;32m      1\u001b[0m \u001b[1;32mimport\u001b[0m \u001b[0mjson\u001b[0m\u001b[1;33m\u001b[0m\u001b[0m\n\u001b[0;32m      2\u001b[0m \u001b[1;33m\u001b[0m\u001b[0m\n\u001b[1;32m----> 3\u001b[1;33m \u001b[0mconfig\u001b[0m \u001b[1;33m=\u001b[0m \u001b[0mmy_robot\u001b[0m\u001b[1;33m.\u001b[0m\u001b[0mto_config\u001b[0m\u001b[1;33m(\u001b[0m\u001b[1;33m)\u001b[0m\u001b[1;33m\u001b[0m\u001b[0m\n\u001b[0m\u001b[0;32m      4\u001b[0m \u001b[1;33m\u001b[0m\u001b[0m\n\u001b[0;32m      5\u001b[0m \u001b[1;32mwith\u001b[0m \u001b[0mopen\u001b[0m\u001b[1;33m(\u001b[0m\u001b[1;34m'mini_dof.json'\u001b[0m\u001b[1;33m,\u001b[0m \u001b[1;34m'wb'\u001b[0m\u001b[1;33m)\u001b[0m \u001b[1;32mas\u001b[0m \u001b[0mf\u001b[0m\u001b[1;33m:\u001b[0m\u001b[1;33m\u001b[0m\u001b[0m\n",
      "\u001b[1;31mNameError\u001b[0m: name 'my_robot' is not defined"
     ]
    }
   ],
   "source": [
    "import json\n",
    "\n",
    "config = my_robot.to_config()\n",
    "\n",
    "with open('test.json', 'wb') as f:\n",
    "    json.dump(config, f)"
   ]
  },
  {
   "cell_type": "markdown",
   "metadata": {},
   "source": [
    "And close the robot :"
   ]
  },
  {
   "cell_type": "code",
   "execution_count": 13,
   "metadata": {
    "collapsed": true
   },
   "outputs": [],
   "source": [
    "my_robot.close()"
   ]
  },
  {
   "cell_type": "markdown",
   "metadata": {},
   "source": [
    "You can use your previous json file to instanciate your robot :"
   ]
  },
  {
   "cell_type": "code",
   "execution_count": 11,
   "metadata": {
    "collapsed": false
   },
   "outputs": [],
   "source": [
    "from pypot.robot import from_json\n",
    "\n",
    "mini_4dof = from_json('test.json')"
   ]
  },
  {
   "cell_type": "code",
   "execution_count": 12,
   "metadata": {
    "collapsed": false
   },
   "outputs": [
    {
     "data": {
      "text/plain": [
       "[<DxlMotor name=m1 id=1 pos=-0.15>,\n",
       " <DxlMotor name=m2 id=2 pos=0.15>,\n",
       " <DxlMotor name=m3 id=3 pos=-0.44>,\n",
       " <DxlMotor name=m4 id=4 pos=-0.44>]"
      ]
     },
     "execution_count": 12,
     "metadata": {},
     "output_type": "execute_result"
    }
   ],
   "source": [
    "mini_4dof.motors"
   ]
  },
  {
   "cell_type": "markdown",
   "metadata": {},
   "source": [
    "And make move your robot :"
   ]
  },
  {
   "cell_type": "code",
   "execution_count": 13,
   "metadata": {
    "collapsed": false
   },
   "outputs": [],
   "source": [
    "for m in mini_4dof.motors:\n",
    "    m.compliant=False\n",
    "    m.goto_position(0,1)"
   ]
  },
  {
   "cell_type": "code",
   "execution_count": 13,
   "metadata": {
    "collapsed": false
   },
   "outputs": [],
   "source": [
    "mini_4dof.m4.goto_position(90,0.5)"
   ]
  },
  {
   "cell_type": "code",
   "execution_count": 14,
   "metadata": {
    "collapsed": false
   },
   "outputs": [],
   "source": [
    "mini_4dof.m4.goto_position(-90,0.5)"
   ]
  },
  {
   "cell_type": "code",
   "execution_count": 15,
   "metadata": {
    "collapsed": false
   },
   "outputs": [],
   "source": [
    "mini_4dof.m3.goto_position(-10,0.5)"
   ]
  },
  {
   "cell_type": "code",
   "execution_count": 16,
   "metadata": {
    "collapsed": true
   },
   "outputs": [],
   "source": [
    "mini_4dof.m3.goto_position(90,0.5)"
   ]
  },
  {
   "cell_type": "code",
   "execution_count": 17,
   "metadata": {
    "collapsed": true
   },
   "outputs": [],
   "source": [
    "mini_4dof.m4.goto_position(90,0.5)\n",
    "mini_4dof.m4.goto_position(-90,0.5)"
   ]
  },
  {
   "cell_type": "code",
   "execution_count": 15,
   "metadata": {
    "collapsed": false
   },
   "outputs": [
    {
     "name": "stdout",
     "output_type": "stream",
     "text": [
      "Populating the interactive namespace from numpy and matplotlib\n"
     ]
    }
   ],
   "source": [
    "import time\n",
    "%pylab inline"
   ]
  },
  {
   "cell_type": "code",
   "execution_count": 14,
   "metadata": {
    "collapsed": true
   },
   "outputs": [],
   "source": [
    "from pypot.primitive import Primitive\n",
    "\n",
    "class graph_primitive(Primitive):\n",
    "    def setup(self):\n",
    "        self.m4 = []\n",
    "        self.m3 = []\n",
    "        self.load = []\n",
    "        self.m2 = []\n",
    "        self.t = []\n",
    "        self.temoin=[]\n",
    "        self.a=1\n",
    "            \n",
    "    def run(self):\n",
    "        while not self.should_stop():\n",
    "            self.m4.append(mini_4dof.m4.present_position)\n",
    "            self.m3.append(mini_4dof.m3.present_position)\n",
    "            self.m2.append(mini_4dof.m2.present_position)\n",
    "            self.load.append(mini_4dof.m2.present_load)\n",
    "            self.t.append(time.time())\n",
    "            if self.a==1 :\n",
    "                self.a=-1\n",
    "            else :\n",
    "                self.a=1\n",
    "            self.temoin.append(self.a)\n",
    "            time.sleep(0.02)"
   ]
  },
  {
   "cell_type": "code",
   "execution_count": 16,
   "metadata": {
    "collapsed": false
   },
   "outputs": [
    {
     "name": "stderr",
     "output_type": "stream",
     "text": [
      "WARNING:pypot.dynamixel.error:Communication error after sending DxlSyncReadDataPacket(ids=[1, 2, 3, 4], address=37, length=6)\n"
     ]
    },
    {
     "data": {
      "text/plain": [
       "<matplotlib.text.Text at 0x5b6fab0>"
      ]
     },
     "execution_count": 16,
     "metadata": {},
     "output_type": "execute_result"
    },
    {
     "data": {
      "image/png": "[encoded data removed]",
      "text/plain": [
       "<matplotlib.figure.Figure at 0x5ad9190>"
      ]
     },
     "metadata": {},
     "output_type": "display_data"
    },
    {
     "data": {
      "image/png": "[encoded data removed]",
      "text/plain": [
       "<matplotlib.figure.Figure at 0x5b48a30>"
      ]
     },
     "metadata": {},
     "output_type": "display_data"
    },
    {
     "data": {
      "image/png": "[encoded data removed]",
      "text/plain": [
       "<matplotlib.figure.Figure at 0x5bd12f0>"
      ]
     },
     "metadata": {},
     "output_type": "display_data"
    }
   ],
   "source": [
    "graph = graph_primitive(mini_4dof)\n",
    "graph.start()\n",
    "\n",
    "mini_4dof.m2.goto_position(40,2)\n",
    "mini_4dof.m4.goto_position(90,2)\n",
    "mini_4dof.m3.goto_position(130,3,wait=True)\n",
    "mini_4dof.m2.goto_position(-40,2)\n",
    "mini_4dof.m4.goto_position(-90,2)\n",
    "mini_4dof.m3.goto_position(-130,3,wait=True)\n",
    "mini_4dof.m2.goto_position(40,2)\n",
    "mini_4dof.m4.goto_position(90,2)\n",
    "mini_4dof.m3.goto_position(130,3,wait=True)\n",
    "mini_4dof.m2.goto_position(-40,2)\n",
    "mini_4dof.m4.goto_position(-90,2)\n",
    "mini_4dof.m3.goto_position(-130,3,wait=True)\n",
    "mini_4dof.m2.goto_position(40,2)\n",
    "mini_4dof.m4.goto_position(90,2)\n",
    "mini_4dof.m3.goto_position(130,3,wait=True)\n",
    "mini_4dof.m2.goto_position(-40,2)\n",
    "mini_4dof.m4.goto_position(-90,2)\n",
    "mini_4dof.m3.goto_position(-130,3,wait=True)\n",
    "\n",
    "time.sleep(3)\n",
    "graph.stop()\n",
    "\n",
    "figure(1)            \n",
    "plot(graph.t,graph.m3)\n",
    "xlabel('time seconds')\n",
    "ylabel('m3 position')\n",
    "title ('Position of motor')\n",
    "figure(2)\n",
    "plot(graph.t,graph.m2)\n",
    "xlabel('time seconds')\n",
    "ylabel('m2 position')\n",
    "title ('Position of motor')\n",
    "figure(3)\n",
    "plot(graph.t,graph.load)\n",
    "xlabel('time seconds')\n",
    "ylabel('m3 load')\n",
    "title ('Position of motor')"
   ]
  },
  {
   "cell_type": "code",
   "execution_count": 16,
   "metadata": {
    "collapsed": false
   },
   "outputs": [],
   "source": [
    "mini_4dof.m3.goal_position = 20"
   ]
  },
  {
   "cell_type": "code",
   "execution_count": 17,
   "metadata": {
    "collapsed": false
   },
   "outputs": [],
   "source": [
    "mini_4dof.close()"
   ]
  },
  {
   "cell_type": "markdown",
   "metadata": {},
   "source": [
    "##Robot class"
   ]
  },
  {
   "cell_type": "markdown",
   "metadata": {},
   "source": [
    "If you have correctly set your robot as a poppy creature you just have to import the class and instanciate your robot :"
   ]
  },
  {
   "cell_type": "code",
   "execution_count": 1,
   "metadata": {
    "collapsed": false
   },
   "outputs": [
    {
     "name": "stdout",
     "output_type": "stream",
     "text": [
      "poppy-ergo-jr poppy_ergo_jr PoppyErgoJr\n",
      "poppy-humanoid poppy_humanoid PoppyHumanoid\n",
      "poppy-torso poppy_torso PoppyTorso\n",
      "poppy-4dof-arm-mini poppy_4dof_arm_mini Poppy4dofArmMini\n"
     ]
    }
   ],
   "source": [
    "from poppy.creatures import Poppy4dofArmMini"
   ]
  },
  {
   "cell_type": "markdown",
   "metadata": {},
   "source": [
    "To know what poppy creature are installed on your computer :"
   ]
  },
  {
   "cell_type": "markdown",
   "metadata": {},
   "source": [
    "To check what is installed on your computer. You have to find the name of your creature."
   ]
  },
  {
   "cell_type": "code",
   "execution_count": 22,
   "metadata": {
    "collapsed": false
   },
   "outputs": [
    {
     "data": {
      "text/plain": [
       "[pyserial 2.7 (c:\\python27\\lib\\site-packages\\pyserial-2.7-py2.7-win32.egg),\n",
       " ipython 3.0.0-b1 (c:\\python27\\lib\\site-packages\\ipython-3.0.0_b1-py2.7.egg),\n",
       " zerorpc 0.4.4 (c:\\python27\\lib\\site-packages\\zerorpc-0.4.4-py2.7.egg),\n",
       " pyzmq 14.5.0 (c:\\python27\\lib\\site-packages\\pyzmq-14.5.0-py2.7-win32.egg),\n",
       " tornado 4.1 (c:\\python27\\lib\\site-packages\\tornado-4.1-py2.7-win32.egg),\n",
       " bottle 0.12.8 (c:\\python27\\lib\\site-packages\\bottle-0.12.8-py2.7.egg),\n",
       " mistune 0.5 (c:\\python27\\lib\\site-packages\\mistune-0.5-py2.7.egg),\n",
       " mock 1.0.1 (c:\\python27\\lib\\site-packages\\mock-1.0.1-py2.7.egg),\n",
       " nose 1.3.4 (c:\\python27\\lib\\site-packages\\nose-1.3.4-py2.7.egg),\n",
       " requests 2.5.1 (c:\\python27\\lib\\site-packages\\requests-2.5.1-py2.7.egg),\n",
       " jinja2 2.7.3 (c:\\python27\\lib\\site-packages\\jinja2-2.7.3-py2.7.egg),\n",
       " jsonschema 2.4.0 (c:\\python27\\lib\\site-packages\\jsonschema-2.4.0-py2.7.egg),\n",
       " numpydoc 0.5 (c:\\python27\\lib\\site-packages\\numpydoc-0.5-py2.7.egg),\n",
       " pygments 2.0.2 (c:\\python27\\lib\\site-packages\\pygments-2.0.2-py2.7.egg),\n",
       " sphinx 1.3b2 (c:\\python27\\lib\\site-packages\\sphinx-1.3b2-py2.7.egg),\n",
       " enum34 1.0.4 (c:\\python27\\lib\\site-packages\\enum34-1.0.4-py2.7.egg),\n",
       " poppy-ergo-jr 1.1.0 (c:\\python27\\lib\\site-packages\\poppy_ergo_jr-1.1.0-py2.7.egg),\n",
       " poppy-humanoid 1.1.0 (c:\\python27\\lib\\site-packages\\poppy_humanoid-1.1.0-py2.7.egg),\n",
       " poppy-creature 1.6.0 (c:\\python27\\lib\\site-packages\\poppy_creature-1.6.0-py2.7.egg),\n",
       " poppy-torso 1.1.5 (c:\\python27\\lib\\site-packages\\poppy_torso-1.1.5-py2.7.egg),\n",
       " pypot 2.10.0 (c:\\python27\\lib\\site-packages\\pypot-2.10.0-py2.7.egg),\n",
       " poppy-4dof-arm-mini 1.0.2 (c:\\python27\\lib\\site-packages\\poppy_4dof_arm_mini-1.0.2-py2.7.egg),\n",
       " Babel 1.3 (c:\\python27\\lib\\site-packages),\n",
       " backports.ssl-match-hostname 3.4.0.2 (c:\\python27\\lib\\site-packages),\n",
       " bleach 1.4.1 (c:\\python27\\lib\\site-packages),\n",
       " certifi 14.05.14 (c:\\python27\\lib\\site-packages),\n",
       " colorama 0.3.3 (c:\\python27\\lib\\site-packages),\n",
       " docutils 0.12 (c:\\python27\\lib\\site-packages),\n",
       " html5lib 0.99999 (c:\\python27\\lib\\site-packages),\n",
       " MarkupSafe 0.23 (c:\\python27\\lib\\site-packages),\n",
       " matplotlib 1.4.2 (c:\\python27\\lib\\site-packages),\n",
       " numpy 1.9.1 (c:\\python27\\lib\\site-packages),\n",
       " pyparsing 2.0.3 (c:\\python27\\lib\\site-packages),\n",
       " pyreadline 2.0 (c:\\python27\\lib\\site-packages),\n",
       " python-dateutil 2.4.0 (c:\\python27\\lib\\site-packages),\n",
       " pytz 2014.10 (c:\\python27\\lib\\site-packages),\n",
       " pywin32 219 (c:\\python27\\lib\\site-packages),\n",
       " readme 0.5.1 (c:\\python27\\lib\\site-packages),\n",
       " restview 2.3.0 (c:\\python27\\lib\\site-packages),\n",
       " scipy 0.14.0 (c:\\python27\\lib\\site-packages),\n",
       " six 1.9.0 (c:\\python27\\lib\\site-packages),\n",
       " snowballstemmer 1.2.0 (c:\\python27\\lib\\site-packages)]"
      ]
     },
     "execution_count": 22,
     "metadata": {},
     "output_type": "execute_result"
    }
   ],
   "source": [
    "import pip\n",
    "pip.get_installed_distributions() "
   ]
  },
  {
   "cell_type": "code",
   "execution_count": 2,
   "metadata": {
    "collapsed": false
   },
   "outputs": [
    {
     "ename": "NameError",
     "evalue": "name 'installed_poppy_creatures_packages' is not defined",
     "output_type": "error",
     "traceback": [
      "\u001b[1;31m---------------------------------------------------------------------------\u001b[0m",
      "\u001b[1;31mNameError\u001b[0m                                 Traceback (most recent call last)",
      "\u001b[1;32m<ipython-input-2-65949fe070e4>\u001b[0m in \u001b[0;36m<module>\u001b[1;34m()\u001b[0m\n\u001b[0;32m      1\u001b[0m \u001b[1;32mimport\u001b[0m \u001b[0mpip\u001b[0m\u001b[1;33m\u001b[0m\u001b[0m\n\u001b[1;32m----> 2\u001b[1;33m \u001b[0minstalled_poppy_creatures_packages\u001b[0m\u001b[1;33m(\u001b[0m\u001b[1;33m)\u001b[0m\u001b[1;33m\u001b[0m\u001b[0m\n\u001b[0m",
      "\u001b[1;31mNameError\u001b[0m: name 'installed_poppy_creatures_packages' is not defined"
     ]
    }
   ],
   "source": [
    "installed_poppy_creatures_packages()"
   ]
  },
  {
   "cell_type": "code",
   "execution_count": null,
   "metadata": {
    "collapsed": false
   },
   "outputs": [],
   "source": [
    "poppy = Poppy4dofArmMini()"
   ]
  },
  {
   "cell_type": "code",
   "execution_count": 52,
   "metadata": {
    "collapsed": false
   },
   "outputs": [
    {
     "data": {
      "text/plain": [
       "[<DxlMotor name=m1 id=1 pos=-0.44>,\n",
       " <DxlMotor name=m2 id=2 pos=-1.03>,\n",
       " <DxlMotor name=m3 id=3 pos=20.67>,\n",
       " <DxlMotor name=m4 id=4 pos=-90.76>]"
      ]
     },
     "execution_count": 52,
     "metadata": {},
     "output_type": "execute_result"
    }
   ],
   "source": [
    "poppy.motors"
   ]
  },
  {
   "cell_type": "code",
   "execution_count": null,
   "metadata": {
    "collapsed": true
   },
   "outputs": [],
   "source": [
    "from pypot.primitive import Primitive\n",
    "\n",
    "class graph_primitive(Primitive):\n",
    "    def setup(self):\n",
    "        self.m4 = []\n",
    "        self.m3 = []\n",
    "        self.load = []\n",
    "        self.m2 = []\n",
    "        self.t = []\n",
    "        self.temoin=[]\n",
    "        self.a=1\n",
    "            \n",
    "    def run(self):\n",
    "        while not self.should_stop():\n",
    "            self.m4.append(poppy.m4.present_position)\n",
    "            self.m3.append(poppy.m3.present_position)\n",
    "            self.m2.append(poppy.m2.present_position)\n",
    "            self.load.append(poppy.m2.present_load)\n",
    "            self.t.append(time.time())\n",
    "            if self.a==1 :\n",
    "                self.a=-1\n",
    "            else :\n",
    "                self.a=1\n",
    "            self.temoin.append(self.a)\n",
    "            time.sleep(0.02)"
   ]
  },
  {
   "cell_type": "code",
   "execution_count": null,
   "metadata": {
    "collapsed": true
   },
   "outputs": [],
   "source": [
    "graph = graph_primitive(poppy)\n",
    "graph.start()\n",
    "\n",
    "poppy.m4.goto_position(130,0.5,wait=True)\n",
    "poppy.m4.goto_position(0,0.5,wait=True)\n",
    "graph.stop()\n",
    "\n",
    "figure(1)            \n",
    "plot(graph.t,graph.m4)\n",
    "xlabel('time seconds')\n",
    "ylabel('m3 position')\n",
    "title ('Position of motor')\n",
    "figure(2)            \n",
    "plot(graph.t,graph.temoin)\n",
    "xlabel('time seconds')\n",
    "ylabel('m3 position')\n",
    "title ('Position of motor')"
   ]
  },
  {
   "cell_type": "code",
   "execution_count": 53,
   "metadata": {
    "collapsed": false
   },
   "outputs": [],
   "source": [
    "poppy.close()"
   ]
  },
  {
   "cell_type": "code",
   "execution_count": null,
   "metadata": {
    "collapsed": true
   },
   "outputs": [],
   "source": []
  }
 ],
 "metadata": {
  "kernelspec": {
   "display_name": "Python 2",
   "language": "python",
   "name": "python2"
  },
  "language_info": {
   "codemirror_mode": {
    "name": "ipython",
    "version": 2
   },
   "file_extension": ".py",
   "mimetype": "text/x-python",
   "name": "python",
   "nbconvert_exporter": "python",
   "pygments_lexer": "ipython2",
   "version": "2.7.9"
  }
 },
 "nbformat": 4,
 "nbformat_minor": 0
}
