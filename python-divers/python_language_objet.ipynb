{
 "cells": [
  {
   "cell_type": "markdown",
   "metadata": {},
   "source": [
    "# Séquences 1 - Découverte de la programmation objet et du language Python\n",
    " \n",
    "##Activité 1 - Manipuler les objets Python"
   ]
  },
  {
   "cell_type": "markdown",
   "metadata": {},
   "source": [
    "---\n",
    "#####Compétences visées par cette activité :\n",
    "*Savoir créer des **variables** de types chaîne de caractères et liste. Utiliser une **méthode** liée à un **objet** par la syntaxe objet.méthode().*\n",
    "\n",
    "---\n",
    "#####Programme de mathématique - seconde :\n",
    "*L’utilisation de logiciels (calculatrice ou ordinateur), d’outils de visualisation et de représentation, de calcul (numérique ou formel), de simulation, de programmation développe la possibilité d’expérimenter, ouvre largement la dialectique entre l’observation et la démonstration et change profondément la nature de l’enseignement.  \n",
    "http://cache.media.education.gouv.fr/file/30/52/3/programme_mathematiques_seconde_65523.pdf (page 2)*\n",
    "\n",
    "*À l’occasion de l’écriture d’algorithmes et de petits programmes, il convient de donner aux élèves de bonnes habitudes de\n",
    "rigueur et de les entraîner aux pratiques systématiques de vérification et de contrôle.  \n",
    "http://cache.media.education.gouv.fr/file/30/52/3/programme_mathematiques_seconde_65523.pdf (page 9)*\n",
    "\n",
    "#####Programme de mathématique - première : \n",
    "*Algorithmique : en seconde, les élèves ont conçu et mis en œuvre quelques algorithmes. Cette formation se poursuit tout au\n",
    "long du cycle terminal.  \n",
    "http://cache.media.education.gouv.fr/file/special_9/21/1/mathsS_155211.pdf (page 6)*\n",
    "\n",
    "Programme ISN - terminale : découverte du monde numérique\n",
    "Programme SI - etc...\n",
    "\n",
    "---"
   ]
  },
  {
   "cell_type": "markdown",
   "metadata": {},
   "source": [
    "Les languages de programmation moderne sont tous des languages dit \"orienté objet\". Il est donc préférable de dire que l'on n'écrit pas des lignes de codes mais que l'on manipule des objets. Ce principe est fondamental et très structurant dans l'écriture d'un programme.\n",
    "\n",
    "L'activité qui suit à pour but de donner quelques mots de vocabulaire et de ponctuation du language Python utilisé pour programmer notre robot. \n",
    "\n",
    "Mais tout cela est un peu abstrait donc place aux exemples."
   ]
  },
  {
   "cell_type": "markdown",
   "metadata": {},
   "source": [
    "Imaginons que nous voulions définir un objet comme étant un bol. La syntaxe à utiliser est la suivante :"
   ]
  },
  {
   "cell_type": "code",
   "execution_count": 22,
   "metadata": {
    "collapsed": true
   },
   "outputs": [],
   "source": [
    "objet1 = 'bol'"
   ]
  },
  {
   "cell_type": "markdown",
   "metadata": {},
   "source": [
    "On dira que vous avez assigné la valeur 'bol' à la variable objet1."
   ]
  },
  {
   "cell_type": "markdown",
   "metadata": {},
   "source": [
    "Maintenant, si je veux savoir qu'est ce que c'est que objet1, je fais :"
   ]
  },
  {
   "cell_type": "code",
   "execution_count": 23,
   "metadata": {
    "collapsed": false
   },
   "outputs": [
    {
     "name": "stdout",
     "output_type": "stream",
     "text": [
      "bol\n"
     ]
    }
   ],
   "source": [
    "print objet1"
   ]
  },
  {
   "cell_type": "markdown",
   "metadata": {},
   "source": [
    "A ton tour de créer un objet2 étant une assiette et ensuite d'afficher ce prix :"
   ]
  },
  {
   "cell_type": "code",
   "execution_count": 25,
   "metadata": {
    "collapsed": false
   },
   "outputs": [
    {
     "name": "stdout",
     "output_type": "stream",
     "text": [
      "assiette\n"
     ]
    }
   ],
   "source": [
    "#Ecrivez votre code ci-dessous et executez le en cliquant sur lecture dans la barre de menu :\n",
    "\n",
    "\n",
    "objet2 = 'assiette'\n",
    "print objet2\n",
    "\n",
    "\n",
    "\n",
    "\n"
   ]
  },
  {
   "cell_type": "markdown",
   "metadata": {},
   "source": [
    "Nous voulons à présent regrouper nos objets dans une liste d'objet que nous appellerons un placard, la syntaxe pour la fabriquer est la suivante :"
   ]
  },
  {
   "cell_type": "code",
   "execution_count": 26,
   "metadata": {
    "collapsed": false
   },
   "outputs": [],
   "source": [
    "placard = [objet1,objet2]"
   ]
  },
  {
   "cell_type": "markdown",
   "metadata": {},
   "source": [
    "A vous maintenant d'afficher le contenu de placard à l'aide de l'instruction print."
   ]
  },
  {
   "cell_type": "code",
   "execution_count": 29,
   "metadata": {
    "collapsed": false
   },
   "outputs": [
    {
     "name": "stdout",
     "output_type": "stream",
     "text": [
      "['bol', 'assiette', 'fourchette']\n"
     ]
    }
   ],
   "source": [
    "#Ecrivez votre code ci-dessous et executez le en cliquant sur lecture dans la barre de menu :\n",
    "\n",
    "\n",
    "print placard\n",
    "\n",
    "\n",
    "\n",
    "\n",
    "\n"
   ]
  },
  {
   "cell_type": "markdown",
   "metadata": {},
   "source": [
    "Pour créer un objet3 étant une fourchette et la rajouter dans mon placard, je dois faire :"
   ]
  },
  {
   "cell_type": "code",
   "execution_count": 28,
   "metadata": {
    "collapsed": true
   },
   "outputs": [],
   "source": [
    "objet3 = 'fourchette'\n",
    "placard.append(objet3)"
   ]
  },
  {
   "cell_type": "markdown",
   "metadata": {},
   "source": [
    "A présent, ré-affichez le contenu de placard en ré-éxécutant une précédente cellule."
   ]
  },
  {
   "cell_type": "markdown",
   "metadata": {},
   "source": [
    "Pour ajouter les fourchettes dans le placard, nous avons utilisée une méthode de l'objet placard. Cette méthode s'appelle \"append\" et permet de rajouter une valeur à une liste. Lorsque je veux que cette méthode \"append\" agissent sur l'objet placard je met un point \".\" entre placard et append.\n",
    "Le point est un signe de ponctuation très important en Python, il permet d'accéder à ce qu'il y a à l'intérieur d'un objet."
   ]
  },
  {
   "cell_type": "markdown",
   "metadata": {},
   "source": [
    "A vous de créer un nouvel objet verre et de le rajouter à notre liste placard. Afficher ensuite le contenu de placard :"
   ]
  },
  {
   "cell_type": "code",
   "execution_count": 33,
   "metadata": {
    "collapsed": false
   },
   "outputs": [
    {
     "name": "stdout",
     "output_type": "stream",
     "text": [
      "['bol', 'assiette', 'fourchette', 'verre', 'verre', 'verre', 'verre']\n"
     ]
    }
   ],
   "source": [
    "#Ecrivez votre code ci-dessous et executez le en cliquant sur lecture dans la barre de menu :\n",
    "\n",
    "objet4 = 'verre'\n",
    "placard.append(objet4)\n",
    "print placard\n",
    "\n",
    "\n",
    "#!!!!!!!!! Résultat faisant l'objet d'une évaluation !!!!!!!!!!!!!!!!!!!!!\n",
    "\n"
   ]
  },
  {
   "cell_type": "markdown",
   "metadata": {},
   "source": [
    "Vous saver à présent créer des variables et des listes en utilisant l'opérateur \"=\". Vous pouvez également ajouter des valeurs à une liste en accédant à des méthodes à l'aide du signe de ponctuation \".\"\n",
    "\n",
    "Vous connaissez le vocabulaire Python :  \n",
    "_Variable  \n",
    "_Liste  \n",
    "_Objet  \n",
    "_Méthode  "
   ]
  }
 ],
 "metadata": {
  "kernelspec": {
   "display_name": "Python 2",
   "language": "python",
   "name": "python2"
  },
  "language_info": {
   "codemirror_mode": {
    "name": "ipython",
    "version": 2
   },
   "file_extension": ".py",
   "mimetype": "text/x-python",
   "name": "python",
   "nbconvert_exporter": "python",
   "pygments_lexer": "ipython2",
   "version": "2.7.9"
  }
 },
 "nbformat": 4,
 "nbformat_minor": 0
}
