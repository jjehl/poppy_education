{
 "cells": [
  {
   "cell_type": "code",
   "execution_count": 1,
   "metadata": {
    "collapsed": true
   },
   "outputs": [],
   "source": [
    "from heol_humanoid import HeolHumanoid"
   ]
  },
  {
   "cell_type": "code",
   "execution_count": 2,
   "metadata": {
    "collapsed": false
   },
   "outputs": [
    {
     "name": "stdout",
     "output_type": "stream",
     "text": [
      "<DxlMotor name=l_hip_motor_z id=42 pos=0>\n",
      "<DxlMotor name=l_thigh_x id=43 pos=0>\n",
      "<DxlMotor name=l_ankle_x id=45 pos=0>\n",
      "<DxlMotor name=r_hip_y id=51 pos=0>\n",
      "<DxlMotor name=r_hip_motor_z id=52 pos=0>\n",
      "<DxlMotor name=r_thigh_x id=53 pos=0>\n",
      "<DxlMotor name=r_ankle_x id=55 pos=0>\n",
      "<DxlMotor name=spine_z id=11 pos=0>\n",
      "<DxlMotor name=chest_x id=12 pos=0>\n",
      "<DxlMotor name=l_shoulder_x id=31 pos=0>\n",
      "<DxlMotor name=l_upper_arm_z id=33 pos=0>\n",
      "<DxlMotor name=r_shoulder_x id=21 pos=0>\n",
      "<DxlMotor name=r_upper_arm_z id=23 pos=0>\n",
      "<DxlMotor name=head_z id=13 pos=0>\n",
      "<DxlMotor name=r_shoulder_motor_y id=22 pos=0>\n",
      "<DxlMotor name=l_shoulder_motor_y id=32 pos=0>\n"
     ]
    }
   ],
   "source": [
    "heol = HeolHumanoid(simulator='vrep')"
   ]
  },
  {
   "cell_type": "code",
   "execution_count": 3,
   "metadata": {
    "collapsed": false
   },
   "outputs": [
    {
     "name": "stdout",
     "output_type": "stream",
     "text": [
      "Populating the interactive namespace from numpy and matplotlib\n"
     ]
    }
   ],
   "source": [
    "%pylab inline\n",
    "import time"
   ]
  },
  {
   "cell_type": "code",
   "execution_count": 17,
   "metadata": {
    "collapsed": true
   },
   "outputs": [],
   "source": [
    "from pypot.dynamixel import conversion\n",
    "conversion.torque_max['XL-320']=1.0"
   ]
  },
  {
   "cell_type": "code",
   "execution_count": 4,
   "metadata": {
    "collapsed": true
   },
   "outputs": [],
   "source": [
    "from pypot.primitive import Primitive"
   ]
  },
  {
   "cell_type": "code",
   "execution_count": 5,
   "metadata": {
    "collapsed": true
   },
   "outputs": [],
   "source": [
    "class Graph_primitive(Primitive):\n",
    "    def __init__(self,robot,motors_name):\n",
    "        self.robot = robot\n",
    "        Primitive.__init__(self, robot)\n",
    "        self.fake_motors={}\n",
    "        for name in motors_name:\n",
    "            self.fake_motors[name] = getattr(self.robot, name)  \n",
    "        self.position={}\n",
    "        self.load={}\n",
    "        self.speed={}\n",
    "        \n",
    "    def setup(self):\n",
    "        for m in self.fake_motors.keys():\n",
    "            self.position[m] = []\n",
    "            self.speed[m] = []\n",
    "            self.load[m] = []\n",
    "        self.python_time=[]\n",
    "        self.pypot_time=[]\n",
    "    \n",
    "    def run(self):\n",
    "        t0 = time.time()\n",
    "        while not self.should_stop():\n",
    "            for m in self.fake_motors.keys():\n",
    "                self.position[m].append(self.fake_motors[m].present_position)\n",
    "                self.load[m].append(self.fake_motors[m].present_load)\n",
    "                self.speed[m].append(self.fake_motors[m].present_speed)\n",
    "            self.python_time.append(time.time()-t0)\n",
    "            self.pypot_time.append(self.elapsed_time)\n",
    "            time.sleep(0.02)\n",
    "            \n",
    "            "
   ]
  },
  {
   "cell_type": "code",
   "execution_count": 6,
   "metadata": {
    "collapsed": true
   },
   "outputs": [],
   "source": [
    "graph = Graph_primitive(heol,['l_hip_y','r_hip_y'])"
   ]
  },
  {
   "cell_type": "code",
   "execution_count": 7,
   "metadata": {
    "collapsed": true
   },
   "outputs": [],
   "source": [
    "graph.start()"
   ]
  },
  {
   "cell_type": "code",
   "execution_count": 8,
   "metadata": {
    "collapsed": true
   },
   "outputs": [],
   "source": [
    "graph.stop()"
   ]
  },
  {
   "cell_type": "code",
   "execution_count": 40,
   "metadata": {
    "collapsed": false
   },
   "outputs": [
    {
     "data": {
      "text/plain": [
       "<matplotlib.text.Text at 0x95d8c50>"
      ]
     },
     "execution_count": 40,
     "metadata": {},
     "output_type": "execute_result"
    },
    {
     "data": {
      "image/png": "[encoded data removed]",
      "text/plain": [
       "<matplotlib.figure.Figure at 0x95a9630>"
      ]
     },
     "metadata": {},
     "output_type": "display_data"
    }
   ],
   "source": [
    "figure(1)\n",
    "plot(graph.pypot_time,graph.load['l_hip_y'])\n",
    "xlabel('elapsed time seconds')\n",
    "ylabel('load')\n",
    "title ('Record load function of elapsed time')"
   ]
  },
  {
   "cell_type": "code",
   "execution_count": 6,
   "metadata": {
    "collapsed": true
   },
   "outputs": [],
   "source": [
    "class Filter_PID:\n",
    "    def __init__(self,nb_record=10,goal=0):\n",
    "        self.nb_record = nb_record\n",
    "        self.goal = goal\n",
    "        self.record_pos=[0 for i in range(nb_record)]\n",
    "        self.filter_load=[[0,0] for i in range(nb_record*10)]\n",
    "        \n",
    "    def add(self,l,t):\n",
    "        self.record_pos.append(l-self.goal)\n",
    "        del self.record_pos[0]\n",
    "        self.filter_load.append([t,sum(self.record_pos)/len(self.record_pos)])\n",
    "        del self.filter_load[0]\n",
    "    \n",
    "    def integrate(self,nb_values=10):\n",
    "        x=[i[0] for i in self.filter_load]\n",
    "        y=[i[1] for i in self.filter_load]\n",
    "        return np.trapz(y[-nb_values-1:-1],x[-nb_values-1:-1])\n",
    "       \n",
    "    def derivative(self):\n",
    "        if self.filter_load[-1][0] != 0:\n",
    "            return ((self.filter_load[-1][1]+self.filter_load[-2][1])/2-(self.filter_load[-10][1]+self.filter_load[-9][1])/2)/((self.filter_load[-1][0]+self.filter_load[-2][0])/2-(self.filter_load[-10][0]+self.filter_load[-9][0])/2)\n",
    "        else :\n",
    "            return 0\n",
    "    \n",
    "    def last(self):\n",
    "        return self.filter_load[-1][1]"
   ]
  },
  {
   "cell_type": "code",
   "execution_count": 7,
   "metadata": {
    "collapsed": false
   },
   "outputs": [],
   "source": [
    "class Load_primitive(Primitive):\n",
    "    def __init__(self,robot,motors_name):\n",
    "        self.robot = robot\n",
    "        Primitive.__init__(self, robot)  \n",
    "        self.fake_motors={}\n",
    "        for name in motors_name:\n",
    "            self.fake_motors[name] = getattr(self.robot, name)  \n",
    "        self.load={}\n",
    "        self.filter_load={}\n",
    "       \n",
    "    def setup(self):\n",
    "        for m in self.fake_motors.keys():\n",
    "            self.load[m] = Filter_PID(20)\n",
    "            self.filter_load[m]=[]\n",
    "        self.pypot_time=[]\n",
    "        \n",
    "    \n",
    "    def run(self):\n",
    "        t0 = time.time()\n",
    "        while not self.should_stop():\n",
    "            for m in self.fake_motors.keys():\n",
    "                self.load[m].add(self.fake_motors[m].present_load,self.elapsed_time)\n",
    "                self.filter_load[m].append(self.load[m].last())\n",
    "            self.pypot_time.append(self.elapsed_time)\n",
    "            time.sleep(0.02)"
   ]
  },
  {
   "cell_type": "code",
   "execution_count": 11,
   "metadata": {
    "collapsed": true
   },
   "outputs": [],
   "source": [
    "load = Load_primitive(heol,['l_hip_y','r_hip_y'])"
   ]
  },
  {
   "cell_type": "code",
   "execution_count": 268,
   "metadata": {
    "collapsed": true
   },
   "outputs": [],
   "source": [
    "load.start()"
   ]
  },
  {
   "cell_type": "code",
   "execution_count": 27,
   "metadata": {
    "collapsed": true
   },
   "outputs": [],
   "source": [
    "# préparation\n",
    "heol.l_shoulder_x.goto_position(90,1)\n",
    "heol.r_shoulder_x.goto_position(90,1)\n",
    "\n",
    "heol.l_thigh_x.goto_position(-10,1)\n",
    "heol.l_ankle_x.goto_position(-10,1)\n",
    "\n",
    "heol.r_thigh_x.goto_position(10,1)\n",
    "heol.r_ankle_x.goto_position(10,1)"
   ]
  },
  {
   "cell_type": "code",
   "execution_count": 28,
   "metadata": {
    "collapsed": true
   },
   "outputs": [],
   "source": [
    "for i in range(3):\n",
    "    # mouvement à gauche\n",
    "    # déséquilibre avant\n",
    "    heol.l_thigh_x.goto_position(-23,0.5)\n",
    "    heol.r_thigh_x.goto_position(-3,0.5,wait=True)\n",
    "    heol.r_ankle_x.goto_position(0,0.5)\n",
    "    heol.l_hip_y.goto_position(15,0.5)\n",
    "    heol.l_foot_y.goto_position(-15,0.5)\n",
    "    heol.r_hip_y.goto_position(-5,0.5,wait=True)\n",
    "    # lancé de pied\n",
    "    heol.r_knee_x.goto_position(60,0.2)\n",
    "    heol.r_thigh_x.goto_position(-60,0.2)\n",
    "    heol.l_hip_y.goto_position(18,0.2)\n",
    "    heol.l_foot_y.goto_position(-18,0.2,wait=True)\n",
    "    #rétablir en chutant sur l'avant\n",
    "    heol.l_thigh_x.goto_position(10,0.2)\n",
    "    heol.l_ankle_x.goto_position(10,0.2,wait=True)\n",
    "    heol.r_ankle_x.goto_position(-10,0.1)\n",
    "    heol.r_knee_x.goto_position(0,0.1)\n",
    "    heol.r_thigh_x.goto_position(-10,0.1)\n",
    "    heol.l_hip_y.goto_position(0,0.1)\n",
    "    heol.l_foot_y.goto_position(0,0.1)\n",
    "    heol.r_hip_y.goto_position(0,0.1,wait=True)\n",
    "    time.sleep(0.5)\n",
    "    # mouvement à droite\n",
    "    # déséquilibre avant\n",
    "    heol.r_thigh_x.goto_position(-23,0.5)\n",
    "    heol.l_thigh_x.goto_position(-3,0.5,wait=True)\n",
    "    heol.l_ankle_x.goto_position(0,0.5)\n",
    "    heol.r_hip_y.goto_position(15,0.5)\n",
    "    heol.r_foot_y.goto_position(15,0.5)\n",
    "    heol.l_hip_y.goto_position(-5,0.5,wait=True)\n",
    "    # lancé de pied\n",
    "    heol.l_knee_x.goto_position(60,0.2)\n",
    "    heol.l_thigh_x.goto_position(-60,0.2)\n",
    "    heol.r_hip_y.goto_position(18,0.2)\n",
    "    heol.r_foot_y.goto_position(18,0.2,wait=True)\n",
    "    #rétablir en chutant sur l'avant\n",
    "    heol.r_thigh_x.goto_position(10,0.2)\n",
    "    heol.r_ankle_x.goto_position(10,0.2,wait=True)\n",
    "    heol.l_ankle_x.goto_position(-10,0.1)\n",
    "    heol.l_knee_x.goto_position(0,0.1)\n",
    "    heol.l_thigh_x.goto_position(-10,0.1)\n",
    "    heol.r_hip_y.goto_position(0,0.1)\n",
    "    heol.r_foot_y.goto_position(0,0.1)\n",
    "    heol.l_hip_y.goto_position(0,0.1,wait=True)\n",
    "    time.sleep(0.5)\n"
   ]
  },
  {
   "cell_type": "code",
   "execution_count": 269,
   "metadata": {
    "collapsed": true
   },
   "outputs": [],
   "source": [
    "load.stop()"
   ]
  },
  {
   "cell_type": "code",
   "execution_count": 270,
   "metadata": {
    "collapsed": false
   },
   "outputs": [
    {
     "data": {
      "text/plain": [
       "<matplotlib.text.Text at 0x9a8f870>"
      ]
     },
     "execution_count": 270,
     "metadata": {},
     "output_type": "execute_result"
    },
    {
     "data": {
      "image/png": "[encoded data removed]",
      "text/plain": [
       "<matplotlib.figure.Figure at 0x9a6c830>"
      ]
     },
     "metadata": {},
     "output_type": "display_data"
    }
   ],
   "source": [
    "figure(1)\n",
    "plot(load.pypot_time,load.filter_load['l_hip_y'],'b-')\n",
    "plot(load.pypot_time,load.filter_load['r_hip_y'],'r-')\n",
    "xlabel('elapsed time seconds')\n",
    "ylabel('load')\n",
    "title ('Record load function of elapsed time')"
   ]
  },
  {
   "cell_type": "code",
   "execution_count": 181,
   "metadata": {
    "collapsed": true
   },
   "outputs": [],
   "source": [
    "for m in heol.motors:\n",
    "    m.goto_position(0,1)"
   ]
  },
  {
   "cell_type": "code",
   "execution_count": 180,
   "metadata": {
    "collapsed": true
   },
   "outputs": [],
   "source": [
    "heol.reset_simulation()"
   ]
  },
  {
   "cell_type": "code",
   "execution_count": null,
   "metadata": {
    "collapsed": true
   },
   "outputs": [],
   "source": []
  },
  {
   "cell_type": "code",
   "execution_count": null,
   "metadata": {
    "collapsed": true
   },
   "outputs": [],
   "source": []
  },
  {
   "cell_type": "code",
   "execution_count": 305,
   "metadata": {
    "collapsed": true
   },
   "outputs": [],
   "source": [
    "from pypot.dynamixel import conversion\n",
    "conversion.torque_max['XL-320']=3.0"
   ]
  },
  {
   "cell_type": "code",
   "execution_count": 306,
   "metadata": {
    "collapsed": false
   },
   "outputs": [
    {
     "data": {
      "text/plain": [
       "{'AX-12': 1.2,\n",
       " 'AX-18': 1.8,\n",
       " 'MX-106': 8.4,\n",
       " 'MX-12': 1.2,\n",
       " 'MX-28': 2.5,\n",
       " 'MX-64': 6.0,\n",
       " 'RX-28': 2.5,\n",
       " 'RX-64': 4.0,\n",
       " 'XL-320': 3.0}"
      ]
     },
     "execution_count": 306,
     "metadata": {},
     "output_type": "execute_result"
    }
   ],
   "source": [
    "conversion.torque_max"
   ]
  },
  {
   "cell_type": "markdown",
   "metadata": {},
   "source": [
    "###Marche équilibrée"
   ]
  },
  {
   "cell_type": "code",
   "execution_count": 147,
   "metadata": {
    "collapsed": true
   },
   "outputs": [],
   "source": [
    "heol.l_knee_x.goto_position(10,1)\n",
    "heol.l_thigh_x.goto_position(-10,1)\n",
    "heol.l_ankle_x.goto_position(10,1)\n",
    "heol.l_foot_y.goto_position(-15,1)\n",
    "heol.r_foot_y.goto_position(-10,1)\n",
    "heol.l_hip_y.goto_position(15,1)\n",
    "heol.r_hip_y.goto_position(-10,1,wait=True)\n",
    "heol.r_thigh_x.goto_position(-40,1)\n",
    "heol.r_knee_x.goto_position(20,1)\n",
    "heol.r_ankle_x.goto_position(-10,1)\n",
    "heol.r_hip_y.goto_position(0,1)\n",
    "heol.r_foot_y.goto_position(0,1,wait=True)\n",
    "heol.l_thigh_x.goto_position(30,2)\n",
    "heol.l_ankle_x.goto_position(30,2)\n",
    "heol.r_thigh_x.goto_position(-40,1)\n",
    "heol.r_knee_x.goto_position(20,1)\n",
    "heol.r_ankle_x.goto_position(-20,1,wait=True)\n",
    "heol.r_hip_y.goto_position(15,1)\n",
    "heol.r_foot_y.goto_position(15,1)\n",
    "heol.chest_x.goto_position(-40,1)\n",
    "heol.r_shoulder_x.goto_position(40,1)\n",
    "heol.l_shoulder_x.goto_position(40,1,wait=True)\n",
    "heol.l_ankle_x.goto_position(50,2)\n",
    "heol.l_knee_x.goto_position(30,1,wait=True)\n",
    "heol.l_thigh_x.goto_position(0,1)\n",
    "heol.l_knee_x.goto_position(70,1)\n",
    "heol.l_ankle_x.goto_position(70,2)\n",
    "heol.l_hip_y.goto_position(5,2,wait=True)\n",
    "heol.l_thigh_x.goto_position(-50,1)\n",
    "heol.l_knee_x.goto_position(90,1)\n",
    "heol.l_ankle_x.goto_position(40,2,wait=True)\n",
    "heol.r_thigh_x.goto_position(-0,1)\n",
    "heol.r_knee_x.goto_position(0,1)\n",
    "heol.r_ankle_x.goto_position(-0,1)\n",
    "heol.chest_x.goto_position(0,1)\n",
    "heol.r_shoulder_x.goto_position(0,1)\n",
    "heol.l_shoulder_x.goto_position(0,1,wait=True)\n",
    "heol.l_thigh_x.goto_position(-40,1)\n",
    "heol.l_knee_x.goto_position(0,2)\n",
    "heol.l_ankle_x.goto_position(-40,2,wait=True)\n",
    "heol.l_foot_y.goto_position(-5,1)\n",
    "heol.r_thigh_x.goto_position(22,1)\n",
    "heol.r_knee_x.goto_position(0,1)\n",
    "heol.r_ankle_x.goto_position(22,1,wait=True)\n",
    "heol.l_thigh_x.goto_position(-30,1)\n",
    "heol.l_knee_x.goto_position(0,1)\n",
    "heol.l_ankle_x.goto_position(-30,1,wait=True)\n",
    "heol.r_thigh_x.goto_position(30,1)\n",
    "heol.r_knee_x.goto_position(0,1)\n",
    "heol.r_ankle_x.goto_position(30,1)\n"
   ]
  },
  {
   "cell_type": "code",
   "execution_count": 137,
   "metadata": {
    "collapsed": true
   },
   "outputs": [],
   "source": [
    "heol.l_ankle_x.goto_position(-30,1,wait=True)"
   ]
  },
  {
   "cell_type": "code",
   "execution_count": 254,
   "metadata": {
    "collapsed": true
   },
   "outputs": [],
   "source": [
    "for m in heol.motors:\n",
    "    m.goto_position(0,1)"
   ]
  },
  {
   "cell_type": "markdown",
   "metadata": {},
   "source": [
    "###Marche en déséquilibre"
   ]
  },
  {
   "cell_type": "code",
   "execution_count": 311,
   "metadata": {
    "collapsed": true
   },
   "outputs": [],
   "source": [
    "heol.r_shoulder_x.goto_position(30,0.5)\n",
    "heol.l_shoulder_x.goto_position(30,0.5)"
   ]
  },
  {
   "cell_type": "code",
   "execution_count": 312,
   "metadata": {
    "collapsed": true
   },
   "outputs": [],
   "source": [
    "heol.l_ankle_x.goto_position(-20,0.1)\n",
    "heol.l_knee_x.goto_position(40,0.1)\n",
    "heol.l_thigh_x.goto_position(-40,0.1)\n",
    "heol.r_ankle_x.goto_position(20,0.1)\n",
    "heol.r_thigh_x.goto_position(20,0.1,wait=True)\n",
    "\n",
    "heol.l_knee_x.goto_position(0,0.2)\n",
    "heol.l_thigh_x.goto_position(-20,0.1)\n",
    "heol.l_ankle_x.goto_position(-20,0.1)\n"
   ]
  },
  {
   "cell_type": "code",
   "execution_count": 315,
   "metadata": {
    "collapsed": true
   },
   "outputs": [],
   "source": [
    "\n",
    "\n",
    "heol.l_ankle_x.goto_position(0,0.1)\n",
    "heol.l_thigh_x.goto_position(0,0.1)\n",
    "\n",
    "heol.r_ankle_x.goto_position(-20,0.1)\n",
    "heol.r_knee_x.goto_position(40,0.1)\n",
    "heol.r_thigh_x.goto_position(-40,0.1,wait=True)\n",
    "\n",
    "\n",
    "heol.l_thigh_x.goto_position(20,0.1)\n",
    "heol.l_ankle_x.goto_position(20,0.1)\n",
    "\n",
    "heol.r_knee_x.goto_position(0,0.1)\n",
    "heol.r_thigh_x.goto_position(-20,0.1)\n",
    "heol.r_ankle_x.goto_position(-20,0.1,wait=True)\n"
   ]
  },
  {
   "cell_type": "code",
   "execution_count": 314,
   "metadata": {
    "collapsed": true
   },
   "outputs": [],
   "source": [
    "heol.r_ankle_x.goto_position(0,0.1)\n",
    "heol.r_thigh_x.goto_position(0,0.1)\n",
    "\n",
    "heol.l_ankle_x.goto_position(-20,0.1)\n",
    "heol.l_knee_x.goto_position(40,0.1)\n",
    "heol.l_thigh_x.goto_position(-40,0.1,wait=True)\n",
    "\n",
    "\n",
    "heol.r_thigh_x.goto_position(20,0.1)\n",
    "heol.r_ankle_x.goto_position(20,0.1)\n",
    "\n",
    "heol.l_knee_x.goto_position(0,0.1)\n",
    "heol.l_thigh_x.goto_position(-20,0.1)\n",
    "heol.l_ankle_x.goto_position(-20,0.1,wait=True)\n"
   ]
  },
  {
   "cell_type": "code",
   "execution_count": 298,
   "metadata": {
    "collapsed": true
   },
   "outputs": [],
   "source": [
    "for i in range(3):\n",
    "    heol.r_ankle_x.goto_position(0,0.1)\n",
    "    heol.r_thigh_x.goto_position(0,0.1)\n",
    "\n",
    "    heol.l_ankle_x.goto_position(-20,0.1)\n",
    "    heol.l_knee_x.goto_position(40,0.1)\n",
    "    heol.l_thigh_x.goto_position(-40,0.1,wait=True)\n",
    "\n",
    "\n",
    "    heol.r_thigh_x.goto_position(20,0.1)\n",
    "    heol.r_ankle_x.goto_position(20,0.1)\n",
    "\n",
    "    heol.l_knee_x.goto_position(0,0.1)\n",
    "    heol.l_thigh_x.goto_position(-20,0.1)\n",
    "    heol.l_ankle_x.goto_position(-20,0.1,wait=True)\n",
    "\n",
    "    time.sleep(0.1)\n",
    "    \n",
    "    heol.l_ankle_x.goto_position(0,0.1)\n",
    "    heol.l_thigh_x.goto_position(0,0.1)\n",
    "\n",
    "    heol.r_ankle_x.goto_position(-20,0.1)\n",
    "    heol.r_knee_x.goto_position(40,0.1)\n",
    "    heol.r_thigh_x.goto_position(-40,0.1,wait=True)\n",
    "\n",
    "\n",
    "    heol.l_thigh_x.goto_position(20,0.1)\n",
    "    heol.l_ankle_x.goto_position(20,0.1)\n",
    "\n",
    "    heol.r_knee_x.goto_position(0,0.1)\n",
    "    heol.r_thigh_x.goto_position(-20,0.1)\n",
    "    heol.r_ankle_x.goto_position(-20,0.1,wait=True)"
   ]
  },
  {
   "cell_type": "code",
   "execution_count": 223,
   "metadata": {
    "collapsed": true
   },
   "outputs": [],
   "source": [
    "heol.l_ankle_x.goto_position(20,0.2)\n",
    "heol.l_thigh_x.goto_position(20,0.2)"
   ]
  },
  {
   "cell_type": "code",
   "execution_count": 227,
   "metadata": {
    "collapsed": true
   },
   "outputs": [],
   "source": [
    "\n",
    "heol.r_knee_x.goto_position(10,0.1)\n",
    "\n"
   ]
  },
  {
   "cell_type": "code",
   "execution_count": 229,
   "metadata": {
    "collapsed": true
   },
   "outputs": [],
   "source": [
    "heol.l_hip_y.goto_position(10,0.1)\n",
    "heol.l_foot_y.goto_position(-10,0.1)\n"
   ]
  },
  {
   "cell_type": "code",
   "execution_count": 245,
   "metadata": {
    "collapsed": true
   },
   "outputs": [],
   "source": [
    "heol.l_thigh_x.goto_position(-20,0.1)\n",
    "heol.l_ankle_x.goto_position(-20,0.1)\n",
    "\n",
    "heol.r_thigh_x.goto_position(20,0.1)\n",
    "heol.r_ankle_x.goto_position(20,0.1)\n"
   ]
  },
  {
   "cell_type": "code",
   "execution_count": 246,
   "metadata": {
    "collapsed": true
   },
   "outputs": [],
   "source": [
    "heol.l_thigh_x.goto_position(0,0.1)\n",
    "heol.l_ankle_x.goto_position(0,0.1)\n",
    "\n"
   ]
  },
  {
   "cell_type": "code",
   "execution_count": null,
   "metadata": {
    "collapsed": true
   },
   "outputs": [],
   "source": [
    "heol.r_thigh_x.goto_position(-20,0.1)\n",
    "heol.r_ankle_x.goto_position(-20,0.1)"
   ]
  },
  {
   "cell_type": "code",
   "execution_count": 316,
   "metadata": {
    "collapsed": true
   },
   "outputs": [],
   "source": [
    "\n",
    "heol.reset_simulation()"
   ]
  },
  {
   "cell_type": "code",
   "execution_count": 186,
   "metadata": {
    "collapsed": true
   },
   "outputs": [],
   "source": [
    "heol.r_ankle_x.goto_position(20,1)\n",
    "heol.r_thigh_x.goto_position(20,1,wait=True)"
   ]
  },
  {
   "cell_type": "code",
   "execution_count": 150,
   "metadata": {
    "collapsed": true
   },
   "outputs": [],
   "source": [
    "heol.r_ankle_x.compliant = True\n",
    "heol.r_foot_y.compliant = True"
   ]
  },
  {
   "cell_type": "code",
   "execution_count": 154,
   "metadata": {
    "collapsed": false
   },
   "outputs": [],
   "source": [
    "heol.r_knee_x.compliant = True\n",
    "heol.l_knee_x.compliant = True"
   ]
  },
  {
   "cell_type": "code",
   "execution_count": 90,
   "metadata": {
    "collapsed": false
   },
   "outputs": [],
   "source": [
    "from pypot.primitive import Primitive\n",
    "import time\n",
    "class wait_primitive(Primitive):\n",
    "    def run(self):\n",
    "        for m in self.robot.motors:\n",
    "            ecart = m.goal_position - m.present_position\n",
    "            print ecart\n",
    "        "
   ]
  },
  {
   "cell_type": "code",
   "execution_count": 91,
   "metadata": {
    "collapsed": false
   },
   "outputs": [],
   "source": [
    "wait = wait_primitive(heol)"
   ]
  },
  {
   "cell_type": "code",
   "execution_count": 92,
   "metadata": {
    "collapsed": false
   },
   "outputs": [
    {
     "name": "stdout",
     "output_type": "stream",
     "text": [
      "-1.05727784988e-06\n",
      "0.00115288561428\n",
      "0.458600986071\n",
      "-0.0495459842183\n",
      "-3.16034528435e-06\n",
      "6.17553514193e-06\n",
      "9.92917163123e-07\n",
      "0.00758281731961\n",
      "0.0115787971989\n",
      "-0.00539134277615\n",
      "-0.00135769196733\n",
      "0.0115787971989\n",
      "-0.0173681957983\n",
      "0.0173681957983\n",
      "-0.00130927699849\n",
      "-0.0115787971989\n",
      "-6.278755286e-06\n",
      "4.80744656769e-09\n",
      "0.0374334820713\n",
      "0.0115787971989\n",
      "-0.010652493423\n",
      "0.00336482324212\n",
      "-0.00157531586821\n"
     ]
    }
   ],
   "source": [
    "wait.start()\n",
    "time.sleep(1)"
   ]
  },
  {
   "cell_type": "code",
   "execution_count": 204,
   "metadata": {
    "collapsed": false
   },
   "outputs": [],
   "source": [
    "\n",
    "heol.reset_simulation()"
   ]
  },
  {
   "cell_type": "code",
   "execution_count": 303,
   "metadata": {
    "collapsed": true
   },
   "outputs": [],
   "source": [
    "heol.close()"
   ]
  },
  {
   "cell_type": "code",
   "execution_count": 205,
   "metadata": {
    "collapsed": true
   },
   "outputs": [],
   "source": [
    "# préparation\n",
    "heol.l_shoulder_x.goto_position(0,1)\n",
    "heol.r_shoulder_x.goto_position(0,1)\n",
    "\n",
    "heol.l_thigh_x.goto_position(-20,1)\n",
    "heol.l_ankle_x.goto_position(-20,1)\n",
    "\n",
    "heol.r_thigh_x.goto_position(20,1)\n",
    "heol.r_ankle_x.goto_position(20,1)"
   ]
  },
  {
   "cell_type": "code",
   "execution_count": 207,
   "metadata": {
    "collapsed": true
   },
   "outputs": [],
   "source": [
    "heol.r_ankle_x.compliant = True\n",
    "heol.l_ankle_x.compliant = True\n"
   ]
  },
  {
   "cell_type": "code",
   "execution_count": 206,
   "metadata": {
    "collapsed": true
   },
   "outputs": [],
   "source": [
    "heol.l_knee_x.goto_position(50,1)\n",
    "heol.l_thigh_x.goto_position(-41,1)"
   ]
  },
  {
   "cell_type": "code",
   "execution_count": 34,
   "metadata": {
    "collapsed": true
   },
   "outputs": [],
   "source": [
    "heol.l_thigh_x.goto_position(-5,1)"
   ]
  },
  {
   "cell_type": "code",
   "execution_count": 190,
   "metadata": {
    "collapsed": false
   },
   "outputs": [],
   "source": [
    "heol.reset_simulation()"
   ]
  },
  {
   "cell_type": "code",
   "execution_count": null,
   "metadata": {
    "collapsed": true
   },
   "outputs": [],
   "source": [
    "from math import *\n"
   ]
  },
  {
   "cell_type": "code",
   "execution_count": 168,
   "metadata": {
    "collapsed": false
   },
   "outputs": [],
   "source": [
    "def thigh_angle(e1,e2,knee_x):\n",
    "    # a is the lengh of the thigh, b the lengh of the shin.\n",
    "    # e1 is the angle between the vertical and the rear leg, e2 the angle between verticale and the front leg\n",
    "    # E is the angle between the two legs\n",
    "    a = 1\n",
    "    b = 1\n",
    "    E = radians(-e1+e2)\n",
    "\n",
    "    # e is the gap between each leg:\n",
    "    e = sqrt((a+b)**2+(a+b)**2-(2*(a+b)*(a+b)*cos(E)))\n",
    "    \n",
    "    # flex is the angle flexion of the knee \n",
    "    flex = pi - radians(knee_x)\n",
    "\n",
    "    ## now after the flexion\n",
    "    # h is the high of the perlvis \n",
    "    h = sqrt(a**2+b**2-(2*a*b*cos(flex)))\n",
    "\n",
    "    # r1 is the angle between h and rear leg\n",
    "    r1 = acos(((a+b)**2+h**2-e**2)/(2*(a+b)*h))\n",
    "\n",
    "    # r2 is the angle between h and front leg\n",
    "    r2 = acos((a**2+h**2-b**2)/(2*a*h))\n",
    "\n",
    "    # R is the new angle between the leg after the knee flexion\n",
    "    R = r1 + r2\n",
    "\n",
    "    # It is possible to freely set the angle for each thigh respecting the rule t2 - t1 = R\n",
    "    # with t1 the rear leg and t2 the front with the flexion\n",
    "    # If you want to not change the initiale angle just set t1 = e1, so t2 = R + e1\n",
    "    t2 = degrees(R) + e1\n",
    "    \n",
    "    return t2"
   ]
  },
  {
   "cell_type": "code",
   "execution_count": 163,
   "metadata": {
    "collapsed": true
   },
   "outputs": [],
   "source": [
    "# a is the lengh of the thigh, b the lengh of the shin.\n",
    "# e1 is the angle between the vertical and the rear leg, e2 the angle between verticale and the front leg\n",
    "# E is the angle between the two legs\n",
    "a = 1\n",
    "b = 1\n",
    "E = radians(-10+10)\n",
    "\n",
    "# e is the gap between each leg:\n",
    "e = sqrt((a+b)**2+(a+b)**2-(2*(a+b)*(a+b)*cos(E)))\n",
    "\n",
    "# flex is the angle flexion of the knee \n",
    "flex = pi - radians(0)\n",
    "\n",
    "## now after the flexion\n",
    "# h is the high of the perlvis \n",
    "h = sqrt(a**2+b**2-(2*a*b*cos(flex)))\n",
    "\n",
    "# r1 is the angle between h and rear leg\n",
    "r1 = acos(((a+b)**2+h**2-e**2)/(2*(a+b)*h))\n",
    "\n",
    "# r2 is the angle between h and front leg\n",
    "r2 = acos((a**2+h**2-b**2)/(2*a*h))\n",
    "\n",
    "# R is the new angle between the leg after the knee flexion\n",
    "R = r1 + r2\n",
    "\n",
    "# It is possible to freely set the angle for each thigh respecting the rule t2 - t1 = R\n",
    "# with t1 the rear leg and t2 the front with the flexion\n",
    "# If you want to not change the initiale angle just set t1 = e1, so t2 = R + e1\n",
    "t2 = degrees(R)"
   ]
  },
  {
   "cell_type": "code",
   "execution_count": 167,
   "metadata": {
    "collapsed": false
   },
   "outputs": [
    {
     "data": {
      "text/plain": [
       "0.0"
      ]
     },
     "execution_count": 167,
     "metadata": {},
     "output_type": "execute_result"
    }
   ],
   "source": [
    "e"
   ]
  },
  {
   "cell_type": "code",
   "execution_count": 199,
   "metadata": {
    "collapsed": false
   },
   "outputs": [
    {
     "data": {
      "text/plain": [
       "52.25032073933099"
      ]
     },
     "execution_count": 199,
     "metadata": {},
     "output_type": "execute_result"
    }
   ],
   "source": [
    "thigh_angle(-20,20,60)"
   ]
  },
  {
   "cell_type": "code",
   "execution_count": 177,
   "metadata": {
    "collapsed": false
   },
   "outputs": [],
   "source": [
    "i=0\n",
    "knee=[]\n",
    "thigh=[]\n",
    "while i<140:\n",
    "    knee.append(i)\n",
    "    thigh.append(thigh_angle(-20,20,i))                 \n",
    "    i += 0.1\n",
    "    "
   ]
  },
  {
   "cell_type": "code",
   "execution_count": 178,
   "metadata": {
    "collapsed": false
   },
   "outputs": [
    {
     "data": {
      "text/plain": [
       "<matplotlib.text.Text at 0x8c299d0>"
      ]
     },
     "execution_count": 178,
     "metadata": {},
     "output_type": "execute_result"
    },
    {
     "data": {
      "image/png": "[encoded data removed]",
      "text/plain": [
       "<matplotlib.figure.Figure at 0x87ac8b0>"
      ]
     },
     "metadata": {},
     "output_type": "display_data"
    }
   ],
   "source": [
    "figure(1)\n",
    "plot(knee,thigh)\n",
    "xlabel('knee angle')\n",
    "ylabel('thigh angle')\n",
    "title ('thigh angle function of knee flexion')"
   ]
  },
  {
   "cell_type": "code",
   "execution_count": 128,
   "metadata": {
    "collapsed": false
   },
   "outputs": [
    {
     "data": {
      "text/plain": [
       "19.8261604608166"
      ]
     },
     "execution_count": 128,
     "metadata": {},
     "output_type": "execute_result"
    }
   ],
   "source": [
    "degrees(r1)"
   ]
  },
  {
   "cell_type": "code",
   "execution_count": 129,
   "metadata": {
    "collapsed": false
   },
   "outputs": [
    {
     "data": {
      "text/plain": [
       "30.000000000000004"
      ]
     },
     "execution_count": 129,
     "metadata": {},
     "output_type": "execute_result"
    }
   ],
   "source": [
    "degrees(r2)"
   ]
  },
  {
   "cell_type": "code",
   "execution_count": 130,
   "metadata": {
    "collapsed": false
   },
   "outputs": [
    {
     "data": {
      "text/plain": [
       "49.8261604608166"
      ]
     },
     "execution_count": 130,
     "metadata": {},
     "output_type": "execute_result"
    }
   ],
   "source": [
    "t2"
   ]
  },
  {
   "cell_type": "code",
   "execution_count": null,
   "metadata": {
    "collapsed": true
   },
   "outputs": [],
   "source": []
  }
 ],
 "metadata": {
  "kernelspec": {
   "display_name": "Python 2",
   "language": "python",
   "name": "python2"
  },
  "language_info": {
   "codemirror_mode": {
    "name": "ipython",
    "version": 2
   },
   "file_extension": ".py",
   "mimetype": "text/x-python",
   "name": "python",
   "nbconvert_exporter": "python",
   "pygments_lexer": "ipython2",
   "version": "2.7.9"
  }
 },
 "nbformat": 4,
 "nbformat_minor": 0
}
