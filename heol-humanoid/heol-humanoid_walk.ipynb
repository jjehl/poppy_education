{
 "cells": [
  {
   "cell_type": "code",
   "execution_count": 1,
   "metadata": {
    "collapsed": true
   },
   "outputs": [],
   "source": [
    "from heol_humanoid import HeolHumanoid"
   ]
  },
  {
   "cell_type": "code",
   "execution_count": 304,
   "metadata": {
    "collapsed": false
   },
   "outputs": [
    {
     "name": "stdout",
     "output_type": "stream",
     "text": [
      "<DxlMotor name=l_hip_motor_z id=42 pos=0>\n",
      "<DxlMotor name=l_thigh_x id=43 pos=0>\n",
      "<DxlMotor name=l_ankle_x id=45 pos=0>\n",
      "<DxlMotor name=r_hip_y id=51 pos=0>\n",
      "<DxlMotor name=r_hip_motor_z id=52 pos=0>\n",
      "<DxlMotor name=r_thigh_x id=53 pos=0>\n",
      "<DxlMotor name=r_ankle_x id=55 pos=0>\n",
      "<DxlMotor name=spine_z id=11 pos=0>\n",
      "<DxlMotor name=chest_x id=12 pos=0>\n",
      "<DxlMotor name=l_shoulder_x id=31 pos=0>\n",
      "<DxlMotor name=l_upper_arm_z id=33 pos=0>\n",
      "<DxlMotor name=r_shoulder_x id=21 pos=0>\n",
      "<DxlMotor name=r_upper_arm_z id=23 pos=0>\n",
      "<DxlMotor name=head_z id=13 pos=0>\n",
      "<DxlMotor name=r_shoulder_motor_y id=22 pos=0>\n",
      "<DxlMotor name=l_shoulder_motor_y id=32 pos=0>\n"
     ]
    }
   ],
   "source": [
    "heol = HeolHumanoid(simulator='vrep')"
   ]
  },
  {
   "cell_type": "code",
   "execution_count": 305,
   "metadata": {
    "collapsed": true
   },
   "outputs": [],
   "source": [
    "from pypot.dynamixel import conversion\n",
    "conversion.torque_max['XL-320']=3.0"
   ]
  },
  {
   "cell_type": "code",
   "execution_count": 306,
   "metadata": {
    "collapsed": false
   },
   "outputs": [
    {
     "data": {
      "text/plain": [
       "{'AX-12': 1.2,\n",
       " 'AX-18': 1.8,\n",
       " 'MX-106': 8.4,\n",
       " 'MX-12': 1.2,\n",
       " 'MX-28': 2.5,\n",
       " 'MX-64': 6.0,\n",
       " 'RX-28': 2.5,\n",
       " 'RX-64': 4.0,\n",
       " 'XL-320': 3.0}"
      ]
     },
     "execution_count": 306,
     "metadata": {},
     "output_type": "execute_result"
    }
   ],
   "source": [
    "conversion.torque_max"
   ]
  },
  {
   "cell_type": "markdown",
   "metadata": {},
   "source": [
    "###Marche équilibrée"
   ]
  },
  {
   "cell_type": "code",
   "execution_count": 147,
   "metadata": {
    "collapsed": true
   },
   "outputs": [],
   "source": [
    "heol.l_knee_x.goto_position(10,1)\n",
    "heol.l_thigh_x.goto_position(-10,1)\n",
    "heol.l_ankle_x.goto_position(10,1)\n",
    "heol.l_foot_y.goto_position(-15,1)\n",
    "heol.r_foot_y.goto_position(-10,1)\n",
    "heol.l_hip_y.goto_position(15,1)\n",
    "heol.r_hip_y.goto_position(-10,1,wait=True)\n",
    "heol.r_thigh_x.goto_position(-40,1)\n",
    "heol.r_knee_x.goto_position(20,1)\n",
    "heol.r_ankle_x.goto_position(-10,1)\n",
    "heol.r_hip_y.goto_position(0,1)\n",
    "heol.r_foot_y.goto_position(0,1,wait=True)\n",
    "heol.l_thigh_x.goto_position(30,2)\n",
    "heol.l_ankle_x.goto_position(30,2)\n",
    "heol.r_thigh_x.goto_position(-40,1)\n",
    "heol.r_knee_x.goto_position(20,1)\n",
    "heol.r_ankle_x.goto_position(-20,1,wait=True)\n",
    "heol.r_hip_y.goto_position(15,1)\n",
    "heol.r_foot_y.goto_position(15,1)\n",
    "heol.chest_x.goto_position(-40,1)\n",
    "heol.r_shoulder_x.goto_position(40,1)\n",
    "heol.l_shoulder_x.goto_position(40,1,wait=True)\n",
    "heol.l_ankle_x.goto_position(50,2)\n",
    "heol.l_knee_x.goto_position(30,1,wait=True)\n",
    "heol.l_thigh_x.goto_position(0,1)\n",
    "heol.l_knee_x.goto_position(70,1)\n",
    "heol.l_ankle_x.goto_position(70,2)\n",
    "heol.l_hip_y.goto_position(5,2,wait=True)\n",
    "heol.l_thigh_x.goto_position(-50,1)\n",
    "heol.l_knee_x.goto_position(90,1)\n",
    "heol.l_ankle_x.goto_position(40,2,wait=True)\n",
    "heol.r_thigh_x.goto_position(-0,1)\n",
    "heol.r_knee_x.goto_position(0,1)\n",
    "heol.r_ankle_x.goto_position(-0,1)\n",
    "heol.chest_x.goto_position(0,1)\n",
    "heol.r_shoulder_x.goto_position(0,1)\n",
    "heol.l_shoulder_x.goto_position(0,1,wait=True)\n",
    "heol.l_thigh_x.goto_position(-40,1)\n",
    "heol.l_knee_x.goto_position(0,2)\n",
    "heol.l_ankle_x.goto_position(-40,2,wait=True)\n",
    "heol.l_foot_y.goto_position(-5,1)\n",
    "heol.r_thigh_x.goto_position(22,1)\n",
    "heol.r_knee_x.goto_position(0,1)\n",
    "heol.r_ankle_x.goto_position(22,1,wait=True)\n",
    "heol.l_thigh_x.goto_position(-30,1)\n",
    "heol.l_knee_x.goto_position(0,1)\n",
    "heol.l_ankle_x.goto_position(-30,1,wait=True)\n",
    "heol.r_thigh_x.goto_position(30,1)\n",
    "heol.r_knee_x.goto_position(0,1)\n",
    "heol.r_ankle_x.goto_position(30,1)\n"
   ]
  },
  {
   "cell_type": "code",
   "execution_count": 137,
   "metadata": {
    "collapsed": true
   },
   "outputs": [],
   "source": [
    "heol.l_ankle_x.goto_position(-30,1,wait=True)"
   ]
  },
  {
   "cell_type": "code",
   "execution_count": 254,
   "metadata": {
    "collapsed": true
   },
   "outputs": [],
   "source": [
    "for m in heol.motors:\n",
    "    m.goto_position(0,1)"
   ]
  },
  {
   "cell_type": "markdown",
   "metadata": {},
   "source": [
    "###Marche en déséquilibre"
   ]
  },
  {
   "cell_type": "code",
   "execution_count": 311,
   "metadata": {
    "collapsed": true
   },
   "outputs": [],
   "source": [
    "heol.r_shoulder_x.goto_position(30,0.5)\n",
    "heol.l_shoulder_x.goto_position(30,0.5)"
   ]
  },
  {
   "cell_type": "code",
   "execution_count": 312,
   "metadata": {
    "collapsed": true
   },
   "outputs": [],
   "source": [
    "heol.l_ankle_x.goto_position(-20,0.1)\n",
    "heol.l_knee_x.goto_position(40,0.1)\n",
    "heol.l_thigh_x.goto_position(-40,0.1)\n",
    "heol.r_ankle_x.goto_position(20,0.1)\n",
    "heol.r_thigh_x.goto_position(20,0.1,wait=True)\n",
    "\n",
    "heol.l_knee_x.goto_position(0,0.2)\n",
    "heol.l_thigh_x.goto_position(-20,0.1)\n",
    "heol.l_ankle_x.goto_position(-20,0.1)\n"
   ]
  },
  {
   "cell_type": "code",
   "execution_count": 315,
   "metadata": {
    "collapsed": true
   },
   "outputs": [],
   "source": [
    "\n",
    "\n",
    "heol.l_ankle_x.goto_position(0,0.1)\n",
    "heol.l_thigh_x.goto_position(0,0.1)\n",
    "\n",
    "heol.r_ankle_x.goto_position(-20,0.1)\n",
    "heol.r_knee_x.goto_position(40,0.1)\n",
    "heol.r_thigh_x.goto_position(-40,0.1,wait=True)\n",
    "\n",
    "\n",
    "heol.l_thigh_x.goto_position(20,0.1)\n",
    "heol.l_ankle_x.goto_position(20,0.1)\n",
    "\n",
    "heol.r_knee_x.goto_position(0,0.1)\n",
    "heol.r_thigh_x.goto_position(-20,0.1)\n",
    "heol.r_ankle_x.goto_position(-20,0.1,wait=True)\n"
   ]
  },
  {
   "cell_type": "code",
   "execution_count": 314,
   "metadata": {
    "collapsed": true
   },
   "outputs": [],
   "source": [
    "heol.r_ankle_x.goto_position(0,0.1)\n",
    "heol.r_thigh_x.goto_position(0,0.1)\n",
    "\n",
    "heol.l_ankle_x.goto_position(-20,0.1)\n",
    "heol.l_knee_x.goto_position(40,0.1)\n",
    "heol.l_thigh_x.goto_position(-40,0.1,wait=True)\n",
    "\n",
    "\n",
    "heol.r_thigh_x.goto_position(20,0.1)\n",
    "heol.r_ankle_x.goto_position(20,0.1)\n",
    "\n",
    "heol.l_knee_x.goto_position(0,0.1)\n",
    "heol.l_thigh_x.goto_position(-20,0.1)\n",
    "heol.l_ankle_x.goto_position(-20,0.1,wait=True)\n"
   ]
  },
  {
   "cell_type": "code",
   "execution_count": 298,
   "metadata": {
    "collapsed": true
   },
   "outputs": [],
   "source": [
    "for i in range(3):\n",
    "    heol.r_ankle_x.goto_position(0,0.1)\n",
    "    heol.r_thigh_x.goto_position(0,0.1)\n",
    "\n",
    "    heol.l_ankle_x.goto_position(-20,0.1)\n",
    "    heol.l_knee_x.goto_position(40,0.1)\n",
    "    heol.l_thigh_x.goto_position(-40,0.1,wait=True)\n",
    "\n",
    "\n",
    "    heol.r_thigh_x.goto_position(20,0.1)\n",
    "    heol.r_ankle_x.goto_position(20,0.1)\n",
    "\n",
    "    heol.l_knee_x.goto_position(0,0.1)\n",
    "    heol.l_thigh_x.goto_position(-20,0.1)\n",
    "    heol.l_ankle_x.goto_position(-20,0.1,wait=True)\n",
    "\n",
    "    time.sleep(0.1)\n",
    "    \n",
    "    heol.l_ankle_x.goto_position(0,0.1)\n",
    "    heol.l_thigh_x.goto_position(0,0.1)\n",
    "\n",
    "    heol.r_ankle_x.goto_position(-20,0.1)\n",
    "    heol.r_knee_x.goto_position(40,0.1)\n",
    "    heol.r_thigh_x.goto_position(-40,0.1,wait=True)\n",
    "\n",
    "\n",
    "    heol.l_thigh_x.goto_position(20,0.1)\n",
    "    heol.l_ankle_x.goto_position(20,0.1)\n",
    "\n",
    "    heol.r_knee_x.goto_position(0,0.1)\n",
    "    heol.r_thigh_x.goto_position(-20,0.1)\n",
    "    heol.r_ankle_x.goto_position(-20,0.1,wait=True)"
   ]
  },
  {
   "cell_type": "code",
   "execution_count": 223,
   "metadata": {
    "collapsed": true
   },
   "outputs": [],
   "source": [
    "heol.l_ankle_x.goto_position(20,0.2)\n",
    "heol.l_thigh_x.goto_position(20,0.2)"
   ]
  },
  {
   "cell_type": "code",
   "execution_count": 227,
   "metadata": {
    "collapsed": true
   },
   "outputs": [],
   "source": [
    "\n",
    "heol.r_knee_x.goto_position(10,0.1)\n",
    "\n"
   ]
  },
  {
   "cell_type": "code",
   "execution_count": 229,
   "metadata": {
    "collapsed": true
   },
   "outputs": [],
   "source": [
    "heol.l_hip_y.goto_position(10,0.1)\n",
    "heol.l_foot_y.goto_position(-10,0.1)\n"
   ]
  },
  {
   "cell_type": "code",
   "execution_count": 245,
   "metadata": {
    "collapsed": true
   },
   "outputs": [],
   "source": [
    "heol.l_thigh_x.goto_position(-20,0.1)\n",
    "heol.l_ankle_x.goto_position(-20,0.1)\n",
    "\n",
    "heol.r_thigh_x.goto_position(20,0.1)\n",
    "heol.r_ankle_x.goto_position(20,0.1)\n"
   ]
  },
  {
   "cell_type": "code",
   "execution_count": 246,
   "metadata": {
    "collapsed": true
   },
   "outputs": [],
   "source": [
    "heol.l_thigh_x.goto_position(0,0.1)\n",
    "heol.l_ankle_x.goto_position(0,0.1)\n",
    "\n"
   ]
  },
  {
   "cell_type": "code",
   "execution_count": null,
   "metadata": {
    "collapsed": true
   },
   "outputs": [],
   "source": [
    "heol.r_thigh_x.goto_position(-20,0.1)\n",
    "heol.r_ankle_x.goto_position(-20,0.1)"
   ]
  },
  {
   "cell_type": "code",
   "execution_count": 316,
   "metadata": {
    "collapsed": true
   },
   "outputs": [],
   "source": [
    "\n",
    "heol.reset_simulation()"
   ]
  },
  {
   "cell_type": "code",
   "execution_count": 186,
   "metadata": {
    "collapsed": true
   },
   "outputs": [],
   "source": [
    "heol.r_ankle_x.goto_position(20,1)\n",
    "heol.r_thigh_x.goto_position(20,1,wait=True)"
   ]
  },
  {
   "cell_type": "code",
   "execution_count": 150,
   "metadata": {
    "collapsed": true
   },
   "outputs": [],
   "source": [
    "heol.r_ankle_x.compliant = True\n",
    "heol.r_foot_y.compliant = True"
   ]
  },
  {
   "cell_type": "code",
   "execution_count": 154,
   "metadata": {
    "collapsed": false
   },
   "outputs": [],
   "source": [
    "heol.r_knee_x.compliant = True\n",
    "heol.l_knee_x.compliant = True"
   ]
  },
  {
   "cell_type": "code",
   "execution_count": 90,
   "metadata": {
    "collapsed": false
   },
   "outputs": [],
   "source": [
    "from pypot.primitive import Primitive\n",
    "import time\n",
    "class wait_primitive(Primitive):\n",
    "    def run(self):\n",
    "        for m in self.robot.motors:\n",
    "            ecart = m.goal_position - m.present_position\n",
    "            print ecart\n",
    "        "
   ]
  },
  {
   "cell_type": "code",
   "execution_count": 91,
   "metadata": {
    "collapsed": false
   },
   "outputs": [],
   "source": [
    "wait = wait_primitive(heol)"
   ]
  },
  {
   "cell_type": "code",
   "execution_count": 92,
   "metadata": {
    "collapsed": false
   },
   "outputs": [
    {
     "name": "stdout",
     "output_type": "stream",
     "text": [
      "-1.05727784988e-06\n",
      "0.00115288561428\n",
      "0.458600986071\n",
      "-0.0495459842183\n",
      "-3.16034528435e-06\n",
      "6.17553514193e-06\n",
      "9.92917163123e-07\n",
      "0.00758281731961\n",
      "0.0115787971989\n",
      "-0.00539134277615\n",
      "-0.00135769196733\n",
      "0.0115787971989\n",
      "-0.0173681957983\n",
      "0.0173681957983\n",
      "-0.00130927699849\n",
      "-0.0115787971989\n",
      "-6.278755286e-06\n",
      "4.80744656769e-09\n",
      "0.0374334820713\n",
      "0.0115787971989\n",
      "-0.010652493423\n",
      "0.00336482324212\n",
      "-0.00157531586821\n"
     ]
    }
   ],
   "source": [
    "wait.start()\n",
    "time.sleep(1)"
   ]
  },
  {
   "cell_type": "code",
   "execution_count": 211,
   "metadata": {
    "collapsed": false
   },
   "outputs": [],
   "source": [
    "\n",
    "heol.reset_simulation()"
   ]
  },
  {
   "cell_type": "code",
   "execution_count": 303,
   "metadata": {
    "collapsed": true
   },
   "outputs": [],
   "source": [
    "heol.close()"
   ]
  },
  {
   "cell_type": "code",
   "execution_count": null,
   "metadata": {
    "collapsed": true
   },
   "outputs": [],
   "source": []
  }
 ],
 "metadata": {
  "kernelspec": {
   "display_name": "Python 2",
   "language": "python",
   "name": "python2"
  },
  "language_info": {
   "codemirror_mode": {
    "name": "ipython",
    "version": 2
   },
   "file_extension": ".py",
   "mimetype": "text/x-python",
   "name": "python",
   "nbconvert_exporter": "python",
   "pygments_lexer": "ipython2",
   "version": "2.7.9"
  }
 },
 "nbformat": 4,
 "nbformat_minor": 0
}
