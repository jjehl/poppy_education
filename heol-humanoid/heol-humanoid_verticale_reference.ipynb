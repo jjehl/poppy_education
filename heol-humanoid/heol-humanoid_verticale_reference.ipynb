{
 "cells": [
  {
   "cell_type": "code",
   "execution_count": 1,
   "metadata": {
    "collapsed": true
   },
   "outputs": [],
   "source": [
    "from heol_humanoid import HeolHumanoid"
   ]
  },
  {
   "cell_type": "code",
   "execution_count": 2,
   "metadata": {
    "collapsed": false
   },
   "outputs": [
    {
     "name": "stdout",
     "output_type": "stream",
     "text": [
      "<DxlMotor name=l_hip_motor_z id=42 pos=0>\n",
      "<DxlMotor name=l_thigh_x id=43 pos=0>\n",
      "<DxlMotor name=l_ankle_x id=45 pos=0>\n",
      "<DxlMotor name=r_hip_y id=51 pos=0>\n",
      "<DxlMotor name=r_hip_motor_z id=52 pos=0>\n",
      "<DxlMotor name=r_thigh_x id=53 pos=0>\n",
      "<DxlMotor name=r_ankle_x id=55 pos=0>\n",
      "<DxlMotor name=spine_z id=11 pos=0>\n",
      "<DxlMotor name=chest_x id=12 pos=0>\n",
      "<DxlMotor name=l_shoulder_x id=31 pos=0>\n",
      "<DxlMotor name=l_upper_arm_z id=33 pos=0>\n",
      "<DxlMotor name=r_shoulder_x id=21 pos=0>\n",
      "<DxlMotor name=r_upper_arm_z id=23 pos=0>\n",
      "<DxlMotor name=head_z id=13 pos=0>\n",
      "<DxlMotor name=r_shoulder_motor_y id=22 pos=0>\n",
      "<DxlMotor name=l_shoulder_motor_y id=32 pos=0>\n"
     ]
    }
   ],
   "source": [
    "heol = HeolHumanoid(simulator='vrep')"
   ]
  },
  {
   "cell_type": "code",
   "execution_count": 6,
   "metadata": {
    "collapsed": true
   },
   "outputs": [],
   "source": [
    "import numpy as np\n",
    "from math import *"
   ]
  },
  {
   "cell_type": "code",
   "execution_count": 3,
   "metadata": {
    "collapsed": true
   },
   "outputs": [],
   "source": [
    "def rotate_matrix(a,b,g):\n",
    "    Rx = np.mat([[1,0,0], [0,cos(a),-sin(a)], [0,sin(a),cos(a)]]) #make a rotation of a radians around x axis\n",
    "    Ry = np.mat([[cos(b),0,sin(b)], [0,1,0], [-sin(b),0,cos(b)]]) #make a rotation of b radians around y axis\n",
    "    Rz = np.mat([[cos(g),-sin(g),0], [sin(g),cos(g),0], [0,0,1]]) #make a rotation of g radians around z axis\n",
    "    Rot = Rz*Ry*Rx #make the three rotations\n",
    "    return Rot"
   ]
  },
  {
   "cell_type": "code",
   "execution_count": 7,
   "metadata": {
    "collapsed": false
   },
   "outputs": [],
   "source": [
    "# return the three angles to go from world reference to chest reference\n",
    "orient_chest = heol.get_object_orientation('chest_respondable') \n",
    "\n",
    "# rot_chest is the rotation matrice to transform any vector you have in the world reference to a vector in the chest reference\n",
    "# vector in chest reference = rot_chest * vector in world reference\n",
    "rot_chest=rotate_matrix(-orient_chest[0],-orient_chest[1],-orient_chest[2])"
   ]
  },
  {
   "cell_type": "code",
   "execution_count": 10,
   "metadata": {
    "collapsed": true
   },
   "outputs": [],
   "source": [
    "# coordinate of z vector in world reference\n",
    "z = np.mat([[0],[0],[1]])"
   ]
  },
  {
   "cell_type": "code",
   "execution_count": 12,
   "metadata": {
    "collapsed": false
   },
   "outputs": [],
   "source": [
    "#z_chest is the verticale reference of the robot\n",
    "z_chest = rot_chest * z"
   ]
  },
  {
   "cell_type": "code",
   "execution_count": 13,
   "metadata": {
    "collapsed": false
   },
   "outputs": [
    {
     "data": {
      "text/plain": [
       "matrix([[  2.86430268e-02],\n",
       "        [ -9.99589632e-01],\n",
       "        [  3.80011053e-04]])"
      ]
     },
     "execution_count": 13,
     "metadata": {},
     "output_type": "execute_result"
    }
   ],
   "source": [
    "z_chest"
   ]
  },
  {
   "cell_type": "code",
   "execution_count": 14,
   "metadata": {
    "collapsed": true
   },
   "outputs": [],
   "source": [
    "heol.r_hip_y.goto_position(0,1)"
   ]
  },
  {
   "cell_type": "code",
   "execution_count": 15,
   "metadata": {
    "collapsed": true
   },
   "outputs": [],
   "source": [
    "orient_chest = heol.get_object_orientation('chest_respondable')\n",
    "rot_chest=rotate_matrix(-orient_chest[0],-orient_chest[1],-orient_chest[2])\n",
    "z_chest = rot_chest * z"
   ]
  },
  {
   "cell_type": "code",
   "execution_count": 16,
   "metadata": {
    "collapsed": false
   },
   "outputs": [
    {
     "data": {
      "text/plain": [
       "matrix([[ 0.02717777],\n",
       "        [-0.99565085],\n",
       "        [-0.08911087]])"
      ]
     },
     "execution_count": 16,
     "metadata": {},
     "output_type": "execute_result"
    }
   ],
   "source": [
    "z_chest"
   ]
  },
  {
   "cell_type": "markdown",
   "metadata": {},
   "source": [
    "Faire une primitive qui renvoit le décalage latérale et le décalage avant arrière\n",
    "heol.orientation(left_right) heol.orientation(front_rear)"
   ]
  },
  {
   "cell_type": "code",
   "execution_count": 21,
   "metadata": {
    "collapsed": false
   },
   "outputs": [],
   "source": [
    "import time\n",
    "time.sleep(1)\n",
    "for m in heol.motors:\n",
    "    m.goal_position=0"
   ]
  },
  {
   "cell_type": "code",
   "execution_count": 38,
   "metadata": {
    "collapsed": true
   },
   "outputs": [],
   "source": [
    "heol.l_hip_y.goto_position(0,1)\n",
    "heol.r_hip_y.goto_position(0,1)"
   ]
  },
  {
   "cell_type": "code",
   "execution_count": 40,
   "metadata": {
    "collapsed": true
   },
   "outputs": [],
   "source": [
    "heol.r_knee_x.goto_position(0,1)"
   ]
  },
  {
   "cell_type": "code",
   "execution_count": null,
   "metadata": {
    "collapsed": true
   },
   "outputs": [],
   "source": []
  }
 ],
 "metadata": {
  "kernelspec": {
   "display_name": "Python 2",
   "language": "python",
   "name": "python2"
  },
  "language_info": {
   "codemirror_mode": {
    "name": "ipython",
    "version": 2
   },
   "file_extension": ".py",
   "mimetype": "text/x-python",
   "name": "python",
   "nbconvert_exporter": "python",
   "pygments_lexer": "ipython2",
   "version": "2.7.9"
  }
 },
 "nbformat": 4,
 "nbformat_minor": 0
}
