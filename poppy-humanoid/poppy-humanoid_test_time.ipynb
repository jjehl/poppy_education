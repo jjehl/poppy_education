{
 "cells": [
  {
   "cell_type": "raw",
   "metadata": {},
   "source": [
    "Initialisation du robot"
   ]
  },
  {
   "cell_type": "code",
   "execution_count": 1,
   "metadata": {
    "collapsed": false,
    "scrolled": false
   },
   "outputs": [
    {
     "name": "stdout",
     "output_type": "stream",
     "text": [
      "Populating the interactive namespace from numpy and matplotlib\n"
     ]
    }
   ],
   "source": [
    "from poppy.creatures import PoppyHumanoid\n",
    "\n",
    "poppy = PoppyHumanoid(simulator='vrep')\n",
    "\n",
    "%pylab inline\n",
    "import time"
   ]
  },
  {
   "cell_type": "markdown",
   "metadata": {},
   "source": [
    "Test de la vitesse de rafraichissement de V-REP ( le temps minimum que V-REP met à renvoyer de nouvelles informations misent à jour). Il est toujours possible d'intérroger V-REP à une fréquence supérieure à la fréquence de rafraichissement mais dans ce cas V-REP renvoi des informations identiques. Cette fréquence de rafraichissement est paramétrable, il s'agit du dt = 50 ms dans la barre du haut."
   ]
  },
  {
   "cell_type": "code",
   "execution_count": 2,
   "metadata": {
    "collapsed": false
   },
   "outputs": [
    {
     "name": "stdout",
     "output_type": "stream",
     "text": [
      " le nombre d'opération moyen par seconde est de : 0 \n"
     ]
    },
    {
     "data": {
      "text/plain": [
       "<matplotlib.legend.Legend at 0x5398b90>"
      ]
     },
     "execution_count": 2,
     "metadata": {},
     "output_type": "execute_result"
    },
    {
     "data": {
      "image/png": "[encoded data removed]",
      "text/plain": [
       "<matplotlib.figure.Figure at 0x52ff530>"
      ]
     },
     "metadata": {},
     "output_type": "display_data"
    }
   ],
   "source": [
    "t= [0,]\n",
    "essai = [0,]\n",
    "t_reel = [0,]\n",
    "t0 = poppy.current_simulation_time\n",
    "t_reel_0 = time.time()\n",
    "t_reel_depart = time.time()\n",
    "while time.time() - t_reel_depart < 20:\n",
    "   \n",
    "    if poppy.current_simulation_time != t0:\n",
    "        dt = poppy.current_simulation_time - t0\n",
    "        dt_reel = time.time() - t_reel_0\n",
    "        t.append(dt)\n",
    "        t_reel.append(dt_reel)\n",
    "        t0 = poppy.current_simulation_time\n",
    "        t_reel_0 = time.time()\n",
    "    time.sleep(0.02)\n",
    "\n",
    "essai = linspace(1, len(t), len(t))\n",
    "moyenne = len(t) / 10\n",
    "print \" le nombre d'opération moyen par seconde est de : %s \" % moyenne\n",
    "plot ( essai, t )\n",
    "plot ( essai , t_reel)\n",
    "xlabel ('nombre de mises a jour')\n",
    "ylabel ('temps - secondes')\n",
    "legend(('temps simule','temp reel'))"
   ]
  },
  {
   "cell_type": "markdown",
   "metadata": {},
   "source": [
    "Ce graphique monte que le temps dans le simulateur s'écoule plus lentement (environ 5 fois plus lentement) que dans la réalité.\n",
    "Ce comportemenr dépends probablement beaucoup de la puissance de calcul 3D de l'ordinateur utilisé. \n",
    "Mais il faudrait faire des tests sur d'autres machines pour confirmer."
   ]
  }
 ],
 "metadata": {
  "kernelspec": {
   "display_name": "Python 2",
   "language": "python",
   "name": "python2"
  },
  "language_info": {
   "codemirror_mode": {
    "name": "ipython",
    "version": 2
   },
   "file_extension": ".py",
   "mimetype": "text/x-python",
   "name": "python",
   "nbconvert_exporter": "python",
   "pygments_lexer": "ipython2",
   "version": "2.7.9"
  }
 },
 "nbformat": 4,
 "nbformat_minor": 0
}
