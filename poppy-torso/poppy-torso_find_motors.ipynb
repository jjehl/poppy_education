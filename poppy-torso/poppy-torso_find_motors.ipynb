{
 "cells": [
  {
   "cell_type": "markdown",
   "metadata": {},
   "source": [
    "#  Activité - Faire danser PoppyTorso"
   ]
  },
  {
   "cell_type": "markdown",
   "metadata": {},
   "source": [
    "### Première partie : en utilisant, le simulateur V-REP :"
   ]
  },
  {
   "cell_type": "markdown",
   "metadata": {},
   "source": [
    "---\n",
    "#####Compétences visées par cette activité :\n",
    "*Savoir utiliser des **modules** en y récupérant des **classes**. Instancier un **objet** à partir d'une **classe**. Utiliser une **méthode** et un **attribut** liée à un **objet**.*\n",
    "Faire le lien entre **rotation des moteurs** et **position du robot dans l'espace**.\n",
    "Faire preuve de **créativité** en developpant une chorégraphie.\n",
    "\n",
    "------\n",
    "#####Lien avec les programmes scolaires, voir :  \n",
    "Pour ICN en classe de seconde : http://www.poppy-prof.fr/?page_id=4&id=67<br>\n",
    "Pour les mathématiques en classe de seconde : http://www.poppy-prof.fr/?page_id=4&id=37\n",
    "\n",
    "------\n"
   ]
  },
  {
   "cell_type": "markdown",
   "metadata": {},
   "source": [
    "Pour faire fonctionner notre robot, il faut utiliser Python mais pas seulement. Nous allons aussi avoir besoin de ce que l'on appelle une librairie. La librairie qui permet d'utiliser notre robot s'appelle Pypot et elle est entièrement écrite avec le language Python.\n",
    "\n",
    "Cette librairie a été construite par des chercheurs très compétants et nous allons simplement apprendre à l'utiliser. "
   ]
  },
  {
   "cell_type": "markdown",
   "metadata": {},
   "source": [
    "La première chose à faire est d'aller chercher dans la librairie Pypot, les bons \"livres\", ceux dont nous allons avoir besoin. Ces \"livres\" se nomment des modules en vocabulaire Python."
   ]
  },
  {
   "cell_type": "markdown",
   "metadata": {},
   "source": [
    "Toutes les instructions seront passées au robot via l'interface sur laquelle vous êtes en train de lire ces lignes. Cette interface se nomme **Jupyter** ou **Notebook**."
   ]
  },
  {
   "cell_type": "markdown",
   "metadata": {},
   "source": [
    "Pour éxécuter les instructions écrites dans une case de Jupyter, il faut :<br>\n",
    "     _**Sélectionner** la case en cliquant dessus.<br>\n",
    "     _Cliquez sur la case **lecture** située dans la barre de menu : <img src=\"images/play.jpg\" alt=\"play\" /><br>\n",
    "     _Ou appuyez simultanément sur **shitf+entrée**.<br>"
   ]
  },
  {
   "cell_type": "code",
   "execution_count": 1,
   "metadata": {
    "collapsed": false
   },
   "outputs": [],
   "source": [
    "from poppy.creatures import PoppyTorso"
   ]
  },
  {
   "cell_type": "markdown",
   "metadata": {},
   "source": [
    "Ensuite, vous allez créer un objet s'appellant poppy et étant un robot de type PoppyTorso. Vous pouvez donner le nom que vous souhaitez à votre robot. Il vous suffit d'écrire : \n",
    "\n",
    "    > nom_du_robot = PoppyTorso(simulator='vrep') \n",
    "    \n",
    "   "
   ]
  },
  {
   "cell_type": "code",
   "execution_count": 2,
   "metadata": {
    "collapsed": false
   },
   "outputs": [],
   "source": [
    "# Ecrivez votre code ci-dessous et éxecutez le. \n",
    "\n",
    "# Une correction est donnée à titre indicatif :\n",
    "poppy = PoppyTorso(simulator='vrep')"
   ]
  },
  {
   "cell_type": "markdown",
   "metadata": {},
   "source": [
    "Comme toute chose en language Python, notre robot poppy est un objet qui contient d'autres objets qui sont ses moteurs.\n",
    "\n",
    "Ca y est, si vous arrivez à accéder aux moteurs de Poppy, vous pourrez le faire bouger...\n",
    "\n",
    "Vous devez donc accéder aux moteurs de poppy (qui se nomment \"motors\") et qui se trouve à l'intérieur de Poppy pour cela tapez :\n",
    "    \n",
    "    > nom_du_robot.motors"
   ]
  },
  {
   "cell_type": "code",
   "execution_count": 3,
   "metadata": {
    "collapsed": false
   },
   "outputs": [
    {
     "data": {
      "text/plain": [
       "[<DxlMotor name=r_arm_z id=53 pos=0.0>,\n",
       " <DxlMotor name=r_elbow_y id=54 pos=0.0>,\n",
       " <DxlMotor name=l_arm_z id=43 pos=0.0>,\n",
       " <DxlMotor name=l_elbow_y id=44 pos=0.0>,\n",
       " <DxlMotor name=abs_z id=33 pos=0.0>,\n",
       " <DxlMotor name=r_shoulder_x id=52 pos=0.0>,\n",
       " <DxlMotor name=r_shoulder_y id=51 pos=1.5>,\n",
       " <DxlMotor name=head_y id=37 pos=-3.3>,\n",
       " <DxlMotor name=head_z id=36 pos=0.0>,\n",
       " <DxlMotor name=bust_y id=34 pos=0.3>,\n",
       " <DxlMotor name=bust_x id=35 pos=0.0>,\n",
       " <DxlMotor name=l_shoulder_x id=42 pos=-2.5>,\n",
       " <DxlMotor name=l_shoulder_y id=41 pos=0.0>]"
      ]
     },
     "execution_count": 3,
     "metadata": {},
     "output_type": "execute_result"
    }
   ],
   "source": [
    "# Ecrivez votre code ci-dessous et éxecutez le. \n",
    "\n",
    "# Une correction est donnée à titre indicatif :\n",
    "poppy.motors\n",
    "\n",
    "\n",
    "\n",
    "\n"
   ]
  },
  {
   "cell_type": "markdown",
   "metadata": {
    "collapsed": true
   },
   "source": [
    "Tous les mouvements sont basés sur des rotations des moteurs situés aux articulations. Il suffit de fixer l'angle que l'on désire pour un moteur. Pour cela, nous pouvons utiliser la méthode :  \n",
    "    > goto_position(angle_en_degrées,temps)\n",
    "    \n",
    "Cette méthode doit s'appliquer aux objets moteurs de l'objet robot :\n",
    "    > nom_du_robot.nom_du_moteur.goto_position(angle_en_degrées,temps)"
   ]
  },
  {
   "cell_type": "code",
   "execution_count": 5,
   "metadata": {
    "collapsed": false
   },
   "outputs": [],
   "source": [
    "# Ecrivez votre code ci-dessous et éxecutez le. \n",
    "\n",
    "# Une correction est donnée à titre indicatif :\n",
    "poppy.head_z.goto_position(90,1)"
   ]
  },
  {
   "cell_type": "markdown",
   "metadata": {
    "collapsed": false
   },
   "source": [
    "A présent choisissez un moteur au hasard dans la liste de moteurs obtenues précédemment et faîtes le bouger pour le localiser sur le robot.\n",
    "Vous devez remplir le tableau suivant avec les noms des 10 moteurs :"
   ]
  },
  {
   "cell_type": "markdown",
   "metadata": {},
   "source": [
    "<img src=\"./images/moteur_torso2.jpg\" alt=\"poppy-torso\" style=\"height: 500px;\"/>"
   ]
  },
  {
   "cell_type": "markdown",
   "metadata": {},
   "source": [
    "Le tableau suivant doit être rempli par les élèves.\n",
    "La correction est donnée à titre indicatif :\n",
    "\n",
    "Nom du moteur 1 :  ...........               <br>\n",
    "Nom du moteur 2 :  ...........               <br>\n",
    "Nom du moteur 3 :  ...........               <br>\n",
    "Nom du moteur 4 :  ...........               <br>\n",
    "Nom du moteur 5 :  ...........               <br>\n",
    "Nom du moteur 6 :  ...........               <br>\n",
    "Nom du moteur 7 :  ...........               <br>\n",
    "Nom du moteur 8 :  ...........               <br>\n",
    "Nom du moteur 9 :  ...........               <br>\n",
    "Nom du moteur 10 : ...........              <br>\n",
    "Nom du moteur 11 : ...........              <br>\n",
    "Nom du moteur 12 : ...........               <br>\n",
    "Nom du moteur 13 : ...........               <br>"
   ]
  },
  {
   "cell_type": "markdown",
   "metadata": {},
   "source": [
    "Si lors de vos essais, vous faîtes tomber votre robot, il est important de connaitre l'instruction qui permet de remettre la simulation à zéro :\n",
    "    > nom_du_robot.reset_simulation()\n",
    "    "
   ]
  },
  {
   "cell_type": "code",
   "execution_count": 23,
   "metadata": {
    "collapsed": true
   },
   "outputs": [],
   "source": [
    "# Ecrivez votre code ci-dessous et éxecutez le. \n",
    "\n",
    "# Une correction est donnée à titre indicatif :\n",
    "# pour remettre la simulation à zéro :\n",
    "poppy.reset_simulation()"
   ]
  },
  {
   "cell_type": "markdown",
   "metadata": {},
   "source": [
    "Si votre robot ne répond plus et que vous ne comprenez pas pourquoi, le programme de contrôle du robot ou l'interface Jupiter est peut être hors service, dans ce cas vous pouvez recharger les programmes en choissisant Kernel puis Restart dans le menu de Jupyter. Il faut ensuite tout recommencer au début de ce guide. \n",
    "\n",
    "Maintenant, à vous de mettre les bras de votre robot à l'horizontale."
   ]
  },
  {
   "cell_type": "code",
   "execution_count": 4,
   "metadata": {
    "collapsed": false
   },
   "outputs": [],
   "source": [
    "# Ecrivez votre code ci-dessous et éxecutez le. \n",
    "\n",
    "# Une correction est donnée à titre indicatif :\n",
    "# pour mettre les bras à l'horizontale\n",
    "\n",
    "poppy.r_shoulder_x.goto_position(-100,1)\n",
    "poppy.l_shoulder_x.goto_position(100,1)\n",
    "\n",
    "poppy.r_elbow_y.goto_position(100,1)\n",
    "poppy.l_elbow_y.goto_position(100,1)"
   ]
  },
  {
   "cell_type": "markdown",
   "metadata": {},
   "source": [
    "Vous avez sans doute remarqué que les mouvements de tous les moteurs s'éxécutent en même temps, en simultané.\n",
    "\n",
    "Il peut être utile de décomposer les mouvements. Par exemple, pour mettre les bras à l'horizontale : bouger d'abord les épaules puis ensuite les coudes. Pour faire cela, il faut rajouter à la méthode goto_position() un argument wait='True' :\n",
    "    > nom_du_robot.nom_du_moteur.goto_position(angle_en_degrées,temps,wait='True')\n",
    "    \n",
    "A présent, mettez les brais à l'horizotale en bougeant d'abord les épaules, puis ensuite les coudes :"
   ]
  },
  {
   "cell_type": "code",
   "execution_count": 6,
   "metadata": {
    "collapsed": true
   },
   "outputs": [],
   "source": [
    "# Ecrivez votre code ci-dessous et éxecutez le. \n",
    "\n",
    "# Une correction est donnée à titre indicatif :\n",
    "# pour mettre les bras à l'horizontale\n",
    "\n",
    "poppy.r_shoulder_x.goto_position(-100,1)\n",
    "poppy.l_shoulder_x.goto_position(100,1,wait='True')\n",
    "\n",
    "poppy.r_elbow_y.goto_position(100,1)\n",
    "poppy.l_elbow_y.goto_position(100,1)"
   ]
  },
  {
   "cell_type": "markdown",
   "metadata": {},
   "source": [
    "Les bras sont à l'horizontale, remettez les dans leur position de départ, c'est à dire avec les angles des moteurs à 0 degrés."
   ]
  },
  {
   "cell_type": "code",
   "execution_count": 5,
   "metadata": {
    "collapsed": false
   },
   "outputs": [],
   "source": [
    "# Ecrivez votre code ci-dessous et éxecutez le. \n",
    "\n",
    "# Une correction est donnée à titre indicatif :\n",
    "# pour remettre les bras dans leur position de départ :\n",
    "\n",
    "\n",
    "poppy.r_elbow_y.goto_position(0,1)\n",
    "poppy.l_elbow_y.goto_position(0,1,wait='True')\n",
    "\n",
    "poppy.r_shoulder_x.goto_position(0,1)\n",
    "poppy.l_shoulder_x.goto_position(0,1,wait='True')\n",
    "\n"
   ]
  },
  {
   "cell_type": "markdown",
   "metadata": {},
   "source": [
    "A présent que vous savez, faire bouger votre robot, soyez créatif et inventez une danse pour lui !"
   ]
  },
  {
   "cell_type": "code",
   "execution_count": 10,
   "metadata": {
    "collapsed": true
   },
   "outputs": [],
   "source": [
    "# Ecrivez votre code ci-dessous et éxecutez le. \n",
    "\n",
    "# Une correction est donnée à titre indicatif :\n",
    "poppy.head_z.goto_position(40,1,wait='True')\n",
    "poppy.head_z.goto_position(-40,1,wait='True')\n",
    "poppy.head_z.goto_position(40,1,wait='True')\n",
    "poppy.head_z.goto_position(-40,1,wait='True')\n",
    "poppy.head_z.goto_position(0,1,wait='True')\n",
    "poppy.r_shoulder_x.goto_position(-90,2)\n",
    "poppy.l_shoulder_x.goto_position(90,2)\n",
    "poppy.l_arm_z.goto_position(90,2)\n",
    "poppy.r_arm_z.goto_position(50,2,wait='True')\n",
    "poppy.r_shoulder_x.goto_position(0,2)\n",
    "poppy.l_shoulder_x.goto_position(0,2)\n",
    "poppy.l_arm_z.goto_position(0,2)\n",
    "poppy.r_arm_z.goto_position(0,2,wait='True')\n",
    "poppy.r_shoulder_x.goto_position(-90,2)\n",
    "poppy.l_shoulder_x.goto_position(90,2)\n",
    "poppy.l_arm_z.goto_position(-50,2)\n",
    "poppy.r_arm_z.goto_position(-90,2,wait='True')\n",
    "poppy.r_shoulder_x.goto_position(0,2)\n",
    "poppy.l_shoulder_x.goto_position(0,2)\n",
    "poppy.l_arm_z.goto_position(0,2)\n",
    "poppy.r_arm_z.goto_position(0,2,wait='True')\n",
    "\n",
    "poppy.l_arm_z.goto_position(90,3)\n",
    "poppy.r_arm_z.goto_position(-90,3,wait='True')\n",
    "poppy.r_arm_z.goto_position(0,3)\n",
    "poppy.l_arm_z.goto_position(0,3,wait='True')\n",
    "poppy.l_arm_z.goto_position(90,3)\n",
    "poppy.r_arm_z.goto_position(-90,3,wait='True')\n",
    "poppy.r_arm_z.goto_position(0,3)\n",
    "poppy.l_arm_z.goto_position(0,3,wait='True')\n",
    "poppy.r_shoulder_x.goto_position(-90,3)\n",
    "poppy.l_shoulder_x.goto_position(90,3,wait='True')\n",
    "poppy.r_shoulder_y.goto_position(30,3)\n",
    "poppy.l_shoulder_y.goto_position(-30,3,wait='True')\n",
    "poppy.r_shoulder_y.goto_position(-30,3)\n",
    "poppy.l_shoulder_y.goto_position(30,3,wait='True')\n",
    "for m in poppy.motors : \n",
    "    m.goto_position(0,1)\n",
    "\n",
    "\n",
    "\n",
    "\n"
   ]
  },
  {
   "cell_type": "markdown",
   "metadata": {},
   "source": [
    "Pour terminer la simulation, il faut arréter le robot :\n",
    "    > nom_du_robot.close()"
   ]
  },
  {
   "cell_type": "code",
   "execution_count": 5,
   "metadata": {
    "collapsed": true
   },
   "outputs": [],
   "source": [
    "# Ecrivez votre code ci-dessous et éxecutez le. \n",
    "\n",
    "# Une correction est donnée à titre indicatif :\n",
    "poppy.close()"
   ]
  },
  {
   "cell_type": "markdown",
   "metadata": {
    "collapsed": true
   },
   "source": [
    "### Deuxième partie : en utilisant un véritable robot :"
   ]
  },
  {
   "cell_type": "markdown",
   "metadata": {},
   "source": [
    "Tout le code développé à l'aide du simulateur doit normalement être valide sur un véritable robot. \n",
    "\n",
    "Il suffit d'instancier la class robot sans l'argument du simulateur :\n",
    "\n",
    "    > nom_du_robot = PoppyTorso()"
   ]
  },
  {
   "cell_type": "markdown",
   "metadata": {},
   "source": [
    "Attention dans le cas du controle d'un véritable PoppyTorso, le code doit être éxécuté dans une interface Jupyter qui pointe sur le nom réseau du robot et non pas sur localhost comme pour le simulateur."
   ]
  },
  {
   "cell_type": "code",
   "execution_count": null,
   "metadata": {
    "collapsed": true
   },
   "outputs": [],
   "source": [
    "# Ecrivez votre code ci-dessous et éxecutez le. \n",
    "\n",
    "# Une correction est donnée à titre indicatif :\n",
    "poppy = PoppyTorso()"
   ]
  },
  {
   "cell_type": "markdown",
   "metadata": {},
   "source": [
    "Recopier à présent le code de votre chorégraphie pour l'éxécuter sur le véritable robot :"
   ]
  },
  {
   "cell_type": "code",
   "execution_count": null,
   "metadata": {
    "collapsed": true
   },
   "outputs": [],
   "source": []
  }
 ],
 "metadata": {
  "kernelspec": {
   "display_name": "Python 2",
   "language": "python",
   "name": "python2"
  },
  "language_info": {
   "codemirror_mode": {
    "name": "ipython",
    "version": 2
   },
   "file_extension": ".py",
   "mimetype": "text/x-python",
   "name": "python",
   "nbconvert_exporter": "python",
   "pygments_lexer": "ipython2",
   "version": "2.7.9"
  }
 },
 "nbformat": 4,
 "nbformat_minor": 0
}
