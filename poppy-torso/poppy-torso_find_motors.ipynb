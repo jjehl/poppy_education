{
 "cells": [
  {
   "cell_type": "markdown",
   "metadata": {},
   "source": [
    "#  Activité - Faire danser PoppyTorso"
   ]
  },
  {
   "cell_type": "markdown",
   "metadata": {},
   "source": [
    "### Première partie : en utilisant, le simulateur V-REP :"
   ]
  },
  {
   "cell_type": "markdown",
   "metadata": {},
   "source": [
    "---\n",
    "#####Compétences visées par cette activité :\n",
    "*Savoir utiliser des **modules** en y récupérant des **classes**. Instancier un **objet** à partir d'une **classe**. Utiliser une **méthode** et un **attribut** liée à un **objet**.*\n",
    "Faire le lien entre **rotation des moteurs** et **position du robot dans l'espace**.\n",
    "Faire preuve de **créativité** en developpant une chorégraphie.\n",
    "\n",
    "------\n",
    "#####Programme de mathématique - seconde :\n",
    "*L’utilisation de logiciels (calculatrice ou ordinateur), d’outils de visualisation et de représentation, de calcul (numérique ou formel), de simulation, de programmation développe la possibilité d’expérimenter, ouvre largement la dialectique entre l’observation et la démonstration et change profondément la nature de l’enseignement.  \n",
    "http://cache.media.education.gouv.fr/file/30/52/3/programme_mathematiques_seconde_65523.pdf (page 2)*\n",
    "\n",
    "*À l’occasion de l’écriture d’algorithmes et de petits programmes, il convient de donner aux élèves de bonnes habitudes de\n",
    "rigueur et de les entraîner aux pratiques systématiques de vérification et de contrôle.  \n",
    "http://cache.media.education.gouv.fr/file/30/52/3/programme_mathematiques_seconde_65523.pdf (page 9)*\n",
    "\n",
    "#####Programme de mathématique - première : \n",
    "*Algorithmique : en seconde, les élèves ont conçu et mis en œuvre quelques algorithmes. Cette formation se poursuit tout au\n",
    "long du cycle terminal.  \n",
    "http://cache.media.education.gouv.fr/file/special_9/21/1/mathsS_155211.pdf (page 6)*\n",
    "\n",
    "Programme ISN - terminale : découverte du monde numérique\n",
    "Programme SI - etc...\n",
    "\n",
    "---"
   ]
  },
  {
   "cell_type": "markdown",
   "metadata": {},
   "source": [
    "Pour faire fonctionner notre robot, il faut utiliser Python mais pas seulement. Nous allons aussi avoir besoin de ce que l'on appelle une librairie. La librairie qui permet d'utiliser notre robot s'appelle Pypot et elle est entièrement écrite avec le language Python.\n",
    "\n",
    "Cette librairie a été construite par des chercheurs très compétants et nous allons simplement apprendre à l'utiliser. "
   ]
  },
  {
   "cell_type": "markdown",
   "metadata": {},
   "source": [
    "La première chose à faire est d'aller chercher dans la librairie Pypot, les bons \"livres\", ceux dont nous allons avoir besoin. Ces \"livres\" se nomment des modules en vocabulaire Python."
   ]
  },
  {
   "cell_type": "markdown",
   "metadata": {},
   "source": [
    "Toutes les instructions seront passées au robot via l'interface sur laquelle vous êtes en train de lire ces lignes. Cette interface se nomme **Jupyter** ou **Notebook**."
   ]
  },
  {
   "cell_type": "markdown",
   "metadata": {},
   "source": [
    "Pour éxécuter les instructions écrites dans une case de Jupyter, il faut :<br>\n",
    "     _**Sélectionner** la case en cliquant dessus.<br>\n",
    "     _Cliquez sur la case **lecture** située dans la barre de menu : <img src=\"images/play.jpg\" alt=\"play\" /><br>\n",
    "     _Ou appuyez simultanément sur **shitf+entrée**.<br>"
   ]
  },
  {
   "cell_type": "code",
   "execution_count": 2,
   "metadata": {
    "collapsed": false
   },
   "outputs": [],
   "source": [
    "from poppy.creatures import PoppyTorso"
   ]
  },
  {
   "cell_type": "markdown",
   "metadata": {},
   "source": [
    "Ensuite, vous allez créer un objet s'appellant poppy et étant un robot de type PoppyTorso. Vous pouvez donner le nom que vous souhaitez à votre robot. Il vous suffit d'écrire : \n",
    "\n",
    "    > nom_du_robot = PoppyTorso(simulator='vrep') \n",
    "    \n",
    "   "
   ]
  },
  {
   "cell_type": "code",
   "execution_count": 6,
   "metadata": {
    "collapsed": false
   },
   "outputs": [],
   "source": [
    "# Ecrivez votre code ci-dessous et éxecutez le. \n",
    "\n",
    "# Une correction est donnée à titre indicatif :\n",
    "poppy = PoppyTorso(simulator='vrep')"
   ]
  },
  {
   "cell_type": "markdown",
   "metadata": {},
   "source": [
    "Comme toute chose en language Python, notre robot poppy est un objet qui contient d'autres objets qui sont ses moteurs.\n",
    "\n",
    "Ca y est, si vous arrivez à accéder aux moteurs de Poppy, vous pourrez le faire bouger...\n",
    "\n",
    "Vous devez donc accéder aux moteurs de poppy (qui se nomment \"motors\") et qui se trouve à l'intérieur de Poppy pour cela tapez :\n",
    "    \n",
    "    > nom_du_robot.motors"
   ]
  },
  {
   "cell_type": "code",
   "execution_count": 3,
   "metadata": {
    "collapsed": false
   },
   "outputs": [
    {
     "data": {
      "text/plain": [
       "[<DxlMotor name=r_arm_z id=53 pos=-0.0>,\n",
       " <DxlMotor name=r_elbow_y id=54 pos=0.0>,\n",
       " <DxlMotor name=l_arm_z id=43 pos=0.0>,\n",
       " <DxlMotor name=l_elbow_y id=44 pos=0.0>,\n",
       " <DxlMotor name=abs_z id=33 pos=0.0>,\n",
       " <DxlMotor name=r_shoulder_x id=52 pos=0.0>,\n",
       " <DxlMotor name=r_shoulder_y id=51 pos=1.1>,\n",
       " <DxlMotor name=head_y id=37 pos=-2.3>,\n",
       " <DxlMotor name=head_z id=36 pos=0.0>,\n",
       " <DxlMotor name=bust_y id=34 pos=0.2>,\n",
       " <DxlMotor name=bust_x id=35 pos=0.0>,\n",
       " <DxlMotor name=l_shoulder_x id=42 pos=-1.8>,\n",
       " <DxlMotor name=l_shoulder_y id=41 pos=0.0>]"
      ]
     },
     "execution_count": 3,
     "metadata": {},
     "output_type": "execute_result"
    }
   ],
   "source": [
    "# Ecrivez votre code ci-dessous et éxecutez le. \n",
    "\n",
    "# Une correction est donnée à titre indicatif :\n",
    "poppy.motors\n",
    "\n",
    "\n",
    "\n",
    "\n"
   ]
  },
  {
   "cell_type": "markdown",
   "metadata": {
    "collapsed": true
   },
   "source": [
    "Tous les mouvements sont basés sur des rotations des moteurs situés aux articulations. Il suffit de fixer l'angle que l'on désire pour un moteur. Pour cela, nous pouvons utiliser la méthode :  \n",
    "    > goto_position(angle_en_degrées,temps)\n",
    "    \n",
    "Cette méthode doit s'appliquer aux objets moteurs de l'objet robot :\n",
    "    > nom_du_robot.nom_du_moteur.goto_position(angle_en_degrées,temps)"
   ]
  },
  {
   "cell_type": "code",
   "execution_count": 5,
   "metadata": {
    "collapsed": false
   },
   "outputs": [],
   "source": [
    "# Ecrivez votre code ci-dessous et éxecutez le. \n",
    "\n",
    "# Une correction est donnée à titre indicatif :\n",
    "poppy.head_z.goto_position(90,1)"
   ]
  },
  {
   "cell_type": "markdown",
   "metadata": {
    "collapsed": false
   },
   "source": [
    "A présent choisissez un moteur au hasard dans la liste de moteurs obtenues précédemment et faîtes le bouger pour le localiser sur le robot.\n",
    "Vous devez remplir le tableau suivant avec les noms des 10 moteurs :"
   ]
  },
  {
   "cell_type": "markdown",
   "metadata": {},
   "source": [
    "<img src=\"./images/moteur_torso2.jpg\" alt=\"poppy-torso\" style=\"height: 500px;\"/>"
   ]
  },
  {
   "cell_type": "markdown",
   "metadata": {},
   "source": [
    "Le tableau suivant doit être rempli par les élèves.\n",
    "La correction est donnée à titre indicatif :\n",
    "\n",
    "Nom du moteur 1 :  ...........               <br>\n",
    "Nom du moteur 2 :  ...........               <br>\n",
    "Nom du moteur 3 :  ...........               <br>\n",
    "Nom du moteur 4 :  ...........               <br>\n",
    "Nom du moteur 5 :  ...........               <br>\n",
    "Nom du moteur 6 :  ...........               <br>\n",
    "Nom du moteur 7 :  ...........               <br>\n",
    "Nom du moteur 8 :  ...........               <br>\n",
    "Nom du moteur 9 :  ...........               <br>\n",
    "Nom du moteur 10 : ...........              <br>\n",
    "Nom du moteur 11 : ...........              <br>\n",
    "Nom du moteur 12 : ...........               <br>\n",
    "Nom du moteur 13 : ...........               <br>"
   ]
  },
  {
   "cell_type": "markdown",
   "metadata": {},
   "source": [
    "Si lors de vos essais, vous faîtes tomber votre robot, il est important de connaitre l'instruction qui permet de remettre la simulation à zéro :\n",
    "    > nom_du_robot.reset_simulation()\n",
    "    "
   ]
  },
  {
   "cell_type": "code",
   "execution_count": 23,
   "metadata": {
    "collapsed": true
   },
   "outputs": [],
   "source": [
    "# Ecrivez votre code ci-dessous et éxecutez le. \n",
    "\n",
    "# Une correction est donnée à titre indicatif :\n",
    "# pour remettre la simulation à zéro :\n",
    "poppy.reset_simulation()"
   ]
  },
  {
   "cell_type": "markdown",
   "metadata": {},
   "source": [
    "Si votre robot ne répond plus et que vous ne comprenez pas pourquoi, le programme de contrôle du robot ou l'interface Jupiter est peut être hors service, dans ce cas vous pouvez recharger les programmes en choissisant Kernel puis Restart dans le menu de Jupyter. Il faut ensuite tout recommencer au début de ce guide. \n",
    "\n",
    "Maintenant, à vous de mettre les bras de votre robot à l'horizontale."
   ]
  },
  {
   "cell_type": "code",
   "execution_count": 22,
   "metadata": {
    "collapsed": false
   },
   "outputs": [],
   "source": [
    "# Ecrivez votre code ci-dessous et éxecutez le. \n",
    "\n",
    "# Une correction est donnée à titre indicatif :\n",
    "# pour mettre les bras à l'horizontale\n",
    "\n",
    "poppy.r_shoulder_x.goto_position(-100,1)\n",
    "poppy.l_shoulder_x.goto_position(100,1)\n",
    "\n",
    "poppy.r_elbow_y.goto_position(100,1)\n",
    "poppy.l_elbow_y.goto_position(100,1)"
   ]
  },
  {
   "cell_type": "markdown",
   "metadata": {},
   "source": [
    "Vous avez sans doute remarqué que les mouvements de tous les moteurs s'éxécutent en même temps, en simultané.\n",
    "\n",
    "Il peut être utile de décomposer les mouvements. Par exemple, pour mettre les bras à l'horizontale : bouger d'abord les épaules puis ensuite les coudes. Pour faire cela, il faut rajouter à la méthode goto_position() un argument wait='True' :\n",
    "    > nom_du_robot.nom_du_moteur.goto_position(angle_en_degrées,temps,wait='True')\n",
    "    \n",
    "A présent, mettez les brais à l'horizotale en bougeant d'abord les épaules, puis ensuite les coudes :"
   ]
  },
  {
   "cell_type": "code",
   "execution_count": 34,
   "metadata": {
    "collapsed": true
   },
   "outputs": [],
   "source": [
    "# Ecrivez votre code ci-dessous et éxecutez le. \n",
    "\n",
    "# Une correction est donnée à titre indicatif :\n",
    "# pour mettre les bras à l'horizontale\n",
    "\n",
    "poppy.r_shoulder_x.goto_position(-100,1)\n",
    "poppy.l_shoulder_x.goto_position(100,1,wait='True')\n",
    "\n",
    "poppy.r_elbow_y.goto_position(100,1)\n",
    "poppy.l_elbow_y.goto_position(100,1)"
   ]
  },
  {
   "cell_type": "markdown",
   "metadata": {},
   "source": [
    "Les bras sont à l'horizontale, remettez les dans leur position de départ, c'est à dire avec les angles des moteurs à 0 degrés."
   ]
  },
  {
   "cell_type": "code",
   "execution_count": 35,
   "metadata": {
    "collapsed": false
   },
   "outputs": [],
   "source": [
    "# Ecrivez votre code ci-dessous et éxecutez le. \n",
    "\n",
    "# Une correction est donnée à titre indicatif :\n",
    "# pour remettre les bras dans leur position de départ :\n",
    "\n",
    "\n",
    "poppy.r_elbow_y.goto_position(0,1)\n",
    "poppy.l_elbow_y.goto_position(0,1,wait='True')\n",
    "\n",
    "poppy.r_shoulder_x.goto_position(0,1)\n",
    "poppy.l_shoulder_x.goto_position(0,1,wait='True')\n",
    "\n"
   ]
  },
  {
   "cell_type": "markdown",
   "metadata": {},
   "source": [
    "A présent que vous savez, faire bouger votre robot, soyez créatif et inventez une danse pour lui !"
   ]
  },
  {
   "cell_type": "code",
   "execution_count": 4,
   "metadata": {
    "collapsed": true
   },
   "outputs": [],
   "source": [
    "# Ecrivez votre code ci-dessous et éxecutez le. \n",
    "\n",
    "# Une correction est donnée à titre indicatif :\n",
    "poppy.head_y.goto_position(40,1,wait='True')\n",
    "poppy.head_y.goto_position(-40,1,wait='True')\n",
    "poppy.head_y.goto_position(40,1,wait='True')\n",
    "poppy.head_y.goto_position(-40,1,wait='True')\n",
    "poppy.head_y.goto_position(0,1,wait='True')\n",
    "poppy.r_shoulder_x.goto_position(-90,2)\n",
    "poppy.l_shoulder_x.goto_position(90,2)\n",
    "poppy.l_arm_z.goto_position(90,2)\n",
    "poppy.r_arm_z.goto_position(50,2,wait='True')\n",
    "poppy.r_shoulder_x.goto_position(0,2)\n",
    "poppy.l_shoulder_x.goto_position(0,2)\n",
    "poppy.l_arm_z.goto_position(0,2)\n",
    "poppy.r_arm_z.goto_position(0,2,wait='True')\n",
    "poppy.r_shoulder_x.goto_position(-90,2)\n",
    "poppy.l_shoulder_x.goto_position(90,2)\n",
    "poppy.l_arm_z.goto_position(-50,2)\n",
    "poppy.r_arm_z.goto_position(-90,2,wait='True')\n",
    "poppy.r_shoulder_x.goto_position(0,2)\n",
    "poppy.l_shoulder_x.goto_position(0,2)\n",
    "poppy.l_arm_z.goto_position(0,2)\n",
    "poppy.r_arm_z.goto_position(0,2)\n",
    "\n",
    "\n",
    "\n",
    "\n"
   ]
  },
  {
   "cell_type": "markdown",
   "metadata": {},
   "source": [
    "Pour terminer la simulation, il faut arréter le robot :\n",
    "    > nom_du_robot.close()"
   ]
  },
  {
   "cell_type": "code",
   "execution_count": 5,
   "metadata": {
    "collapsed": true
   },
   "outputs": [],
   "source": [
    "# Ecrivez votre code ci-dessous et éxecutez le. \n",
    "\n",
    "# Une correction est donnée à titre indicatif :\n",
    "poppy.close()"
   ]
  },
  {
   "cell_type": "code",
   "execution_count": null,
   "metadata": {
    "collapsed": true
   },
   "outputs": [],
   "source": [
    "### Deuxième partie : en utilisant un véritable robot :"
   ]
  },
  {
   "cell_type": "markdown",
   "metadata": {},
   "source": [
    "Tout le code développé à l'aide du simulateur doit normalement être valide sur un véritable robot. \n",
    "\n",
    "Il suffit d'instancier la class robot sans l'argument du simulateur :\n",
    "\n",
    "    > nom_du_robot = PoppyTorso()"
   ]
  },
  {
   "cell_type": "markdown",
   "metadata": {},
   "source": [
    "Attention dans le cas du controle d'un véritable PoppyTorso, le code doit être éxécuté dans une interface Jupyter qui pointe sur le nom réseau du robot et non pas sur localhost comme pour le simulateur."
   ]
  },
  {
   "cell_type": "code",
   "execution_count": 7,
   "metadata": {
    "collapsed": false
   },
   "outputs": [
    {
     "ename": "WindowsError",
     "evalue": "[Error 2] Le fichier spécifié est introuvable",
     "output_type": "error",
     "traceback": [
      "\u001b[1;31m---------------------------------------------------------------------------\u001b[0m",
      "\u001b[1;31mWindowsError\u001b[0m                              Traceback (most recent call last)",
      "\u001b[1;32m<ipython-input-7-c0497798186e>\u001b[0m in \u001b[0;36m<module>\u001b[1;34m()\u001b[0m\n\u001b[0;32m      2\u001b[0m \u001b[1;33m\u001b[0m\u001b[0m\n\u001b[0;32m      3\u001b[0m \u001b[1;31m# Une correction est donnée à titre indicatif :\u001b[0m\u001b[1;33m\u001b[0m\u001b[1;33m\u001b[0m\u001b[0m\n\u001b[1;32m----> 4\u001b[1;33m \u001b[0mpoppy\u001b[0m \u001b[1;33m=\u001b[0m \u001b[0mPoppyTorso\u001b[0m\u001b[1;33m(\u001b[0m\u001b[1;33m)\u001b[0m\u001b[1;33m\u001b[0m\u001b[0m\n\u001b[0m",
      "\u001b[1;32mc:\\python27\\lib\\site-packages\\poppy_creature-1.6.0-py2.7.egg\\poppy\\creatures\\abstractcreature.pyc\u001b[0m in \u001b[0;36m__new__\u001b[1;34m(cls, base_path, config, simulator, scene, host, port, id, use_snap, snap_host, snap_port, snap_quiet, use_http, http_host, http_port, http_quiet, use_remote, remote_host, remote_port, sync)\u001b[0m\n\u001b[0;32m     93\u001b[0m \u001b[1;33m\u001b[0m\u001b[0m\n\u001b[0;32m     94\u001b[0m         \u001b[1;32melse\u001b[0m\u001b[1;33m:\u001b[0m\u001b[1;33m\u001b[0m\u001b[0m\n\u001b[1;32m---> 95\u001b[1;33m             \u001b[0mpoppy_creature\u001b[0m \u001b[1;33m=\u001b[0m \u001b[0mfrom_json\u001b[0m\u001b[1;33m(\u001b[0m\u001b[0mconfig\u001b[0m\u001b[1;33m,\u001b[0m \u001b[0msync\u001b[0m\u001b[1;33m)\u001b[0m\u001b[1;33m\u001b[0m\u001b[0m\n\u001b[0m\u001b[0;32m     96\u001b[0m             \u001b[0mpoppy_creature\u001b[0m\u001b[1;33m.\u001b[0m\u001b[0msimulated\u001b[0m \u001b[1;33m=\u001b[0m \u001b[0mFalse\u001b[0m\u001b[1;33m\u001b[0m\u001b[0m\n\u001b[0;32m     97\u001b[0m \u001b[1;33m\u001b[0m\u001b[0m\n",
      "\u001b[1;32mc:\\python27\\lib\\site-packages\\pypot-2.10.0-py2.7.egg\\pypot\\robot\\config.pyc\u001b[0m in \u001b[0;36mfrom_json\u001b[1;34m(json_file, sync, strict, use_dummy_io)\u001b[0m\n\u001b[0;32m    242\u001b[0m         \u001b[0mconfig\u001b[0m \u001b[1;33m=\u001b[0m \u001b[0mjson\u001b[0m\u001b[1;33m.\u001b[0m\u001b[0mload\u001b[0m\u001b[1;33m(\u001b[0m\u001b[0mf\u001b[0m\u001b[1;33m)\u001b[0m\u001b[1;33m\u001b[0m\u001b[0m\n\u001b[0;32m    243\u001b[0m \u001b[1;33m\u001b[0m\u001b[0m\n\u001b[1;32m--> 244\u001b[1;33m     \u001b[1;32mreturn\u001b[0m \u001b[0mfrom_config\u001b[0m\u001b[1;33m(\u001b[0m\u001b[0mconfig\u001b[0m\u001b[1;33m,\u001b[0m \u001b[0msync\u001b[0m\u001b[1;33m=\u001b[0m\u001b[0msync\u001b[0m\u001b[1;33m,\u001b[0m \u001b[0mstrict\u001b[0m\u001b[1;33m=\u001b[0m\u001b[0mstrict\u001b[0m\u001b[1;33m,\u001b[0m \u001b[0muse_dummy_io\u001b[0m\u001b[1;33m=\u001b[0m\u001b[0muse_dummy_io\u001b[0m\u001b[1;33m)\u001b[0m\u001b[1;33m\u001b[0m\u001b[0m\n\u001b[0m\u001b[0;32m    245\u001b[0m \u001b[1;33m\u001b[0m\u001b[0m\n\u001b[0;32m    246\u001b[0m \u001b[1;33m\u001b[0m\u001b[0m\n",
      "\u001b[1;32mc:\\python27\\lib\\site-packages\\pypot-2.10.0-py2.7.egg\\pypot\\robot\\config.pyc\u001b[0m in \u001b[0;36mfrom_config\u001b[1;34m(config, strict, sync, use_dummy_io)\u001b[0m\n\u001b[0;32m     58\u001b[0m         \u001b[0mattached_ids\u001b[0m \u001b[1;33m=\u001b[0m \u001b[1;33m[\u001b[0m\u001b[0mm\u001b[0m\u001b[1;33m.\u001b[0m\u001b[0mid\u001b[0m \u001b[1;32mfor\u001b[0m \u001b[0mm\u001b[0m \u001b[1;32min\u001b[0m \u001b[0mattached_motors\u001b[0m\u001b[1;33m]\u001b[0m\u001b[1;33m\u001b[0m\u001b[0m\n\u001b[0;32m     59\u001b[0m         \u001b[1;32mif\u001b[0m \u001b[1;32mnot\u001b[0m \u001b[0muse_dummy_io\u001b[0m\u001b[1;33m:\u001b[0m\u001b[1;33m\u001b[0m\u001b[0m\n\u001b[1;32m---> 60\u001b[1;33m             \u001b[0mdxl_io\u001b[0m \u001b[1;33m=\u001b[0m \u001b[0mdxl_io_from_confignode\u001b[0m\u001b[1;33m(\u001b[0m\u001b[0mconfig\u001b[0m\u001b[1;33m,\u001b[0m \u001b[0mc_params\u001b[0m\u001b[1;33m,\u001b[0m \u001b[0mattached_ids\u001b[0m\u001b[1;33m,\u001b[0m \u001b[0mstrict\u001b[0m\u001b[1;33m)\u001b[0m\u001b[1;33m\u001b[0m\u001b[0m\n\u001b[0m\u001b[0;32m     61\u001b[0m \u001b[1;33m\u001b[0m\u001b[0m\n\u001b[0;32m     62\u001b[0m             \u001b[0mcheck_motor_limits\u001b[0m\u001b[1;33m(\u001b[0m\u001b[0mconfig\u001b[0m\u001b[1;33m,\u001b[0m \u001b[0mdxl_io\u001b[0m\u001b[1;33m,\u001b[0m \u001b[0mmotor_names\u001b[0m\u001b[1;33m)\u001b[0m\u001b[1;33m\u001b[0m\u001b[0m\n",
      "\u001b[1;32mc:\\python27\\lib\\site-packages\\pypot-2.10.0-py2.7.egg\\pypot\\robot\\config.pyc\u001b[0m in \u001b[0;36mdxl_io_from_confignode\u001b[1;34m(config, c_params, ids, strict)\u001b[0m\n\u001b[0;32m    137\u001b[0m \u001b[1;33m\u001b[0m\u001b[0m\n\u001b[0;32m    138\u001b[0m     \u001b[1;32mif\u001b[0m \u001b[0mport\u001b[0m \u001b[1;33m==\u001b[0m \u001b[1;34m'auto'\u001b[0m\u001b[1;33m:\u001b[0m\u001b[1;33m\u001b[0m\u001b[0m\n\u001b[1;32m--> 139\u001b[1;33m         \u001b[0mport\u001b[0m \u001b[1;33m=\u001b[0m \u001b[0mpypot\u001b[0m\u001b[1;33m.\u001b[0m\u001b[0mdynamixel\u001b[0m\u001b[1;33m.\u001b[0m\u001b[0mfind_port\u001b[0m\u001b[1;33m(\u001b[0m\u001b[0mids\u001b[0m\u001b[1;33m,\u001b[0m \u001b[0mstrict\u001b[0m\u001b[1;33m)\u001b[0m\u001b[1;33m\u001b[0m\u001b[0m\n\u001b[0m\u001b[0;32m    140\u001b[0m         \u001b[0mlogger\u001b[0m\u001b[1;33m.\u001b[0m\u001b[0minfo\u001b[0m\u001b[1;33m(\u001b[0m\u001b[1;34m'Found port {} for ids {}'\u001b[0m\u001b[1;33m.\u001b[0m\u001b[0mformat\u001b[0m\u001b[1;33m(\u001b[0m\u001b[0mport\u001b[0m\u001b[1;33m,\u001b[0m \u001b[0mids\u001b[0m\u001b[1;33m)\u001b[0m\u001b[1;33m)\u001b[0m\u001b[1;33m\u001b[0m\u001b[0m\n\u001b[0;32m    141\u001b[0m \u001b[1;33m\u001b[0m\u001b[0m\n",
      "\u001b[1;32mc:\\python27\\lib\\site-packages\\pypot-2.10.0-py2.7.egg\\pypot\\dynamixel\\__init__.pyc\u001b[0m in \u001b[0;36mfind_port\u001b[1;34m(ids, strict)\u001b[0m\n\u001b[0;32m     81\u001b[0m     \"\"\"\n\u001b[0;32m     82\u001b[0m     \u001b[0mids_founds\u001b[0m \u001b[1;33m=\u001b[0m \u001b[1;33m[\u001b[0m\u001b[1;33m]\u001b[0m\u001b[1;33m\u001b[0m\u001b[0m\n\u001b[1;32m---> 83\u001b[1;33m     \u001b[1;32mfor\u001b[0m \u001b[0mport\u001b[0m \u001b[1;32min\u001b[0m \u001b[0mget_available_ports\u001b[0m\u001b[1;33m(\u001b[0m\u001b[1;33m)\u001b[0m\u001b[1;33m:\u001b[0m\u001b[1;33m\u001b[0m\u001b[0m\n\u001b[0m\u001b[0;32m     84\u001b[0m         \u001b[1;32mfor\u001b[0m \u001b[0mDxlIOCls\u001b[0m \u001b[1;32min\u001b[0m \u001b[1;33m(\u001b[0m\u001b[0mDxlIO\u001b[0m\u001b[1;33m,\u001b[0m \u001b[0mDxl320IO\u001b[0m\u001b[1;33m)\u001b[0m\u001b[1;33m:\u001b[0m\u001b[1;33m\u001b[0m\u001b[0m\n\u001b[0;32m     85\u001b[0m             \u001b[1;32mtry\u001b[0m\u001b[1;33m:\u001b[0m\u001b[1;33m\u001b[0m\u001b[0m\n",
      "\u001b[1;32mc:\\python27\\lib\\site-packages\\pypot-2.10.0-py2.7.egg\\pypot\\dynamixel\\__init__.pyc\u001b[0m in \u001b[0;36mget_available_ports\u001b[1;34m(only_free)\u001b[0m\n\u001b[0;32m     47\u001b[0m \u001b[1;33m\u001b[0m\u001b[0m\n\u001b[0;32m     48\u001b[0m \u001b[1;32mdef\u001b[0m \u001b[0mget_available_ports\u001b[0m\u001b[1;33m(\u001b[0m\u001b[0monly_free\u001b[0m\u001b[1;33m=\u001b[0m\u001b[0mFalse\u001b[0m\u001b[1;33m)\u001b[0m\u001b[1;33m:\u001b[0m\u001b[1;33m\u001b[0m\u001b[0m\n\u001b[1;32m---> 49\u001b[1;33m     \u001b[0mports\u001b[0m \u001b[1;33m=\u001b[0m \u001b[0m_get_available_ports\u001b[0m\u001b[1;33m(\u001b[0m\u001b[1;33m)\u001b[0m\u001b[1;33m\u001b[0m\u001b[0m\n\u001b[0m\u001b[0;32m     50\u001b[0m \u001b[1;33m\u001b[0m\u001b[0m\n\u001b[0;32m     51\u001b[0m     \u001b[1;32mif\u001b[0m \u001b[0monly_free\u001b[0m\u001b[1;33m:\u001b[0m\u001b[1;33m\u001b[0m\u001b[0m\n",
      "\u001b[1;32mc:\\python27\\lib\\site-packages\\pypot-2.10.0-py2.7.egg\\pypot\\dynamixel\\__init__.pyc\u001b[0m in \u001b[0;36m_get_available_ports\u001b[1;34m()\u001b[0m\n\u001b[0;32m     34\u001b[0m         \u001b[0mports\u001b[0m \u001b[1;33m=\u001b[0m \u001b[1;33m[\u001b[0m\u001b[1;33m]\u001b[0m\u001b[1;33m\u001b[0m\u001b[0m\n\u001b[0;32m     35\u001b[0m         \u001b[0mpath\u001b[0m \u001b[1;33m=\u001b[0m \u001b[1;34m'HARDWARE\\\\DEVICEMAP\\\\SERIALCOMM'\u001b[0m\u001b[1;33m\u001b[0m\u001b[0m\n\u001b[1;32m---> 36\u001b[1;33m         \u001b[0mkey\u001b[0m \u001b[1;33m=\u001b[0m \u001b[0m_winreg\u001b[0m\u001b[1;33m.\u001b[0m\u001b[0mOpenKey\u001b[0m\u001b[1;33m(\u001b[0m\u001b[0m_winreg\u001b[0m\u001b[1;33m.\u001b[0m\u001b[0mHKEY_LOCAL_MACHINE\u001b[0m\u001b[1;33m,\u001b[0m \u001b[0mpath\u001b[0m\u001b[1;33m)\u001b[0m\u001b[1;33m\u001b[0m\u001b[0m\n\u001b[0m\u001b[0;32m     37\u001b[0m \u001b[1;33m\u001b[0m\u001b[0m\n\u001b[0;32m     38\u001b[0m         \u001b[1;32mfor\u001b[0m \u001b[0mi\u001b[0m \u001b[1;32min\u001b[0m \u001b[0mitertools\u001b[0m\u001b[1;33m.\u001b[0m\u001b[0mcount\u001b[0m\u001b[1;33m(\u001b[0m\u001b[1;33m)\u001b[0m\u001b[1;33m:\u001b[0m\u001b[1;33m\u001b[0m\u001b[0m\n",
      "\u001b[1;31mWindowsError\u001b[0m: [Error 2] Le fichier spécifié est introuvable"
     ]
    }
   ],
   "source": [
    "# Ecrivez votre code ci-dessous et éxecutez le. \n",
    "\n",
    "# Une correction est donnée à titre indicatif :\n",
    "poppy = PoppyTorso()"
   ]
  },
  {
   "cell_type": "markdown",
   "metadata": {},
   "source": [
    "Recopier à présent le code de votre chorégraphie pour l'éxécuter sur le véritable robot :"
   ]
  },
  {
   "cell_type": "code",
   "execution_count": null,
   "metadata": {
    "collapsed": true
   },
   "outputs": [],
   "source": []
  }
 ],
 "metadata": {
  "kernelspec": {
   "display_name": "Python 2",
   "language": "python",
   "name": "python2"
  },
  "language_info": {
   "codemirror_mode": {
    "name": "ipython",
    "version": 2
   },
   "file_extension": ".py",
   "mimetype": "text/x-python",
   "name": "python",
   "nbconvert_exporter": "python",
   "pygments_lexer": "ipython2",
   "version": "2.7.9"
  }
 },
 "nbformat": 4,
 "nbformat_minor": 0
}
